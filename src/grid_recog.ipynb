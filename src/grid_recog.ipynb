{
 "cells": [
  {
   "cell_type": "code",
   "execution_count": 28,
   "metadata": {},
   "outputs": [],
   "source": [
    "%run ../config/config.py\n",
    "#from config.config import *\n",
    "import pandas as pd\n",
    "import numpy as np\n",
    "import debug\n",
    "import cv2"
   ]
  },
  {
   "cell_type": "code",
   "execution_count": 29,
   "metadata": {},
   "outputs": [],
   "source": [
    "image = cv2.imread(BLACK_YELLOW)\n",
    "image_size = (SIZE,SIZE)\n",
    "image = cv2.resize(image,image_size)"
   ]
  },
  {
   "cell_type": "code",
   "execution_count": 38,
   "metadata": {},
   "outputs": [],
   "source": [
    "def _detect_edges(image):\n",
    "    gray = cv2.cvtColor(image, cv2.COLOR_BGR2GRAY)\n",
    "    edges = cv2.Canny(gray, THRESHOLD1, THRESHOLD2, EDGES)\n",
    "    return edges\n",
    "\n",
    "edges_image = _detect_edges(image)"
   ]
  },
  {
   "cell_type": "code",
   "execution_count": 39,
   "metadata": {},
   "outputs": [],
   "source": [
    "def _generate_edges_lines(canny):\n",
    "    \n",
    "    lines = cv2.HoughLines(canny, \n",
    "                            rho = RHO_RESOLUTION, \n",
    "                            theta =  THETA_RESOLUTION, \n",
    "                            threshold = HOUGH_THRESHOLD)\n",
    "    \n",
    "    #Format dataset\n",
    "    lines = lines.reshape(len(lines),2)\n",
    "    \n",
    "    coor_lines = []\n",
    "    for line in lines:\n",
    "        rho,theta = line\n",
    "        a = np.cos(theta)\n",
    "        b = np.sin(theta)\n",
    "        x0 = a * rho\n",
    "        y0 = b * rho\n",
    "        x1 = int(x0 +DISTANCE*(-b))\n",
    "        y1 = int(y0 +DISTANCE*(a))\n",
    "        x2 = int(x0 -DISTANCE*(-b))\n",
    "        y2 = int(y0 -DISTANCE*(a))   \n",
    "        coor_lines.append(((x1,y1),(x2,y2)))\n",
    "    \n",
    "    return np.array(coor_lines)\n",
    "    \n",
    "lines = _generate_edges_lines(edges_image)"
   ]
  },
  {
   "cell_type": "code",
   "execution_count": 40,
   "metadata": {},
   "outputs": [],
   "source": [
    "from sklearn.cluster import KMeans\n",
    "\n",
    "def _get_lines_means(points, direction, n_clusters = 9):\n",
    "    \n",
    "    means = []\n",
    "\n",
    "    for lines in points:\n",
    "    \n",
    "        kmeans = KMeans(n_clusters = n_clusters, n_init=10)\n",
    "        kmeans.fit(lines)\n",
    "        labels = kmeans.labels_\n",
    "    \n",
    "        unique_labels = list(range(n_clusters))\n",
    "    \n",
    "        cluster_means = []\n",
    "    \n",
    "        for label in unique_labels: \n",
    "            cluster_data = lines[labels == label] \n",
    "            cluster_mean = np.round(sum(cluster_data)/len(cluster_data))  \n",
    "            cluster_means.append(cluster_mean)\n",
    "        \n",
    "        cluster_means = np.array(cluster_means)\n",
    "        sorted_index = np.argsort(cluster_means[:, direction])\n",
    "        \n",
    "        means.append(cluster_means[sorted_index])\n",
    " \n",
    "    return means\n"
   ]
  },
  {
   "cell_type": "code",
   "execution_count": 33,
   "metadata": {},
   "outputs": [],
   "source": [
    "\n",
    "\n",
    "def _get_vertical_averages(lines):\n",
    "    \n",
    "    vertical_lines = lines[lines[:,0,1] > SIZE]\n",
    "    \n",
    "    initial_points = vertical_lines[:,1][vertical_lines[:,1,1] < -SIZE]\n",
    "    final_points = vertical_lines[:,0][vertical_lines[:,0,1] > SIZE] \n",
    "    \n",
    "    averages = _get_lines_means((initial_points, final_points), VERTICAL)\n",
    "    \n",
    "    return np.stack(averages, axis=1)\n",
    "\n",
    "def _get_horizontal_averages(lines):\n",
    "\n",
    "    horizontal_lines = lines[lines[:,1,0] > SIZE]\n",
    "    \n",
    "    initial_points = horizontal_lines[:,0][horizontal_lines[:,0,0] < -SIZE]\n",
    "    final_points = horizontal_lines[:,1][horizontal_lines[:,1,0] > SIZE]\n",
    "    \n",
    "    averages = _get_lines_means((initial_points, final_points), HORIZONTAL)\n",
    "    \n",
    "    return np.stack(averages, axis=1)\n",
    "    \n",
    "vertical_lines = _get_vertical_averages(lines).astype(int)\n",
    "horizontal_lines = _get_horizontal_averages(lines).astype(int)\n",
    "\n",
    "lines = np.concatenate((vertical_lines,horizontal_lines), axis=0)\n",
    "\n",
    "debug.lines(image,lines, size = 3);\n"
   ]
  },
  {
   "cell_type": "code",
   "execution_count": 34,
   "metadata": {},
   "outputs": [],
   "source": [
    "def _detect_inner_corners(lines):\n",
    "    \n",
    "    black_image = np.zeros((SIZE, SIZE, EDGES), dtype=np.uint8)\n",
    "    debug.lines(black_image,lines, size = 3);\n",
    "    black_image = _detect_edges(black_image)\n",
    "    points = cv2.goodFeaturesToTrack(black_image, MAX_CORNERS, QUALITY, MIN_DISTANCE)\n",
    "    return points.reshape(len(points),2)\n",
    "    \n",
    "points =  _detect_inner_corners(lines)\n",
    "debug.points(image,points, color = BLUE, size = 7);\n"
   ]
  },
  {
   "cell_type": "code",
   "execution_count": 35,
   "metadata": {},
   "outputs": [
    {
     "data": {
      "text/plain": [
       "'import itertools\\n\\ndef line_intersections(line1, line2):\\n    x1, y1 = line1[0]\\n    x2, y2 = line1[1]\\n    x3, y3 = line2[0]\\n    x4, y4 = line2[1]\\n\\n    # Calculate the denominator for the intersection point calculation\\n    denominator = (x1 - x2) * (y3 - y4) - (y1 - y2) * (x3 - x4)\\n    if  0 in denominator:\\n        return None  # Lines are parallel and do not intersect\\n\\n    # Calculate the intersection point\\n    px = ((x1 * y2 - y1 * x2) * (x3 - x4) - (x1 - x2) * (x3 * y4 - y3 * x4)) / denominator\\n    py = ((x1 * y2 - y1 * x2) * (y3 - y4) - (y1 - y2) * (x3 * y4 - y3 * x4)) / denominator\\n\\n    return (px, py)\\n\\ndef line_intersection(lines):\\n\\n    lines = list(itertools.combinations(lines, 2))\\n    intersections = []\\n\\n    for i in range(len(lines)):\\n        intersection = line_intersections(lines[0], lines[1])\\n        if intersection is not None:\\n                intersections.append(intersection)\\n            \\n    return np.array(points)\\n\\n\\n\\n#print(lines)\\npoints = line_intersection(lines)\\n\\nprint(points)\\n\\nlower_limit = -1000\\nupper_limit = 1000\\n#points = points.astype(int)\\n# Create a mask to filter points within the range\\n#mask = (points[:, 0] >= lower_limit) & (points[:, 0] <= upper_limit) & (points[:, 1] >= lower_limit) & (points[:, 1] <= upper_limit)\\n\\n#points = points[mask]\\n\\nprint(len(points))\\ndebug.points(image,points, color = (0,255,0), size = 7);\\n\\n#print(len(sorted_intersections))'"
      ]
     },
     "execution_count": 35,
     "metadata": {},
     "output_type": "execute_result"
    }
   ],
   "source": [
    "\"\"\"import itertools\n",
    "\n",
    "def line_intersections(line1, line2):\n",
    "    x1, y1 = line1[0]\n",
    "    x2, y2 = line1[1]\n",
    "    x3, y3 = line2[0]\n",
    "    x4, y4 = line2[1]\n",
    "\n",
    "    # Calculate the denominator for the intersection point calculation\n",
    "    denominator = (x1 - x2) * (y3 - y4) - (y1 - y2) * (x3 - x4)\n",
    "    if  0 in denominator:\n",
    "        return None  # Lines are parallel and do not intersect\n",
    "\n",
    "    # Calculate the intersection point\n",
    "    px = ((x1 * y2 - y1 * x2) * (x3 - x4) - (x1 - x2) * (x3 * y4 - y3 * x4)) / denominator\n",
    "    py = ((x1 * y2 - y1 * x2) * (y3 - y4) - (y1 - y2) * (x3 * y4 - y3 * x4)) / denominator\n",
    "\n",
    "    return (px, py)\n",
    "\n",
    "def line_intersection(lines):\n",
    "\n",
    "    lines = list(itertools.combinations(lines, 2))\n",
    "    intersections = []\n",
    "\n",
    "    for i in range(len(lines)):\n",
    "        intersection = line_intersections(lines[0], lines[1])\n",
    "        if intersection is not None:\n",
    "                intersections.append(intersection)\n",
    "            \n",
    "    return np.array(points)\n",
    "\n",
    "\n",
    "\n",
    "#print(lines)\n",
    "points = line_intersection(lines)\n",
    "\n",
    "print(points)\n",
    "\n",
    "lower_limit = -1000\n",
    "upper_limit = 1000\n",
    "#points = points.astype(int)\n",
    "# Create a mask to filter points within the range\n",
    "#mask = (points[:, 0] >= lower_limit) & (points[:, 0] <= upper_limit) & (points[:, 1] >= lower_limit) & (points[:, 1] <= upper_limit)\n",
    "\n",
    "#points = points[mask]\n",
    "\n",
    "print(len(points))\n",
    "debug.points(image,points, color = (0,255,0), size = 7);\n",
    "\n",
    "#print(len(sorted_intersections))\"\"\""
   ]
  },
  {
   "cell_type": "code",
   "execution_count": 36,
   "metadata": {},
   "outputs": [],
   "source": [
    "def _individual_square_corners():\n",
    "    pass"
   ]
  },
  {
   "cell_type": "code",
   "execution_count": 37,
   "metadata": {},
   "outputs": [],
   "source": [
    "\n",
    "cv2.imshow(\"Image\", image)\n",
    "cv2.waitKey(0)\n",
    "cv2.destroyAllWindows()"
   ]
  }
 ],
 "metadata": {
  "kernelspec": {
   "display_name": "Python 3",
   "language": "python",
   "name": "python3"
  },
  "language_info": {
   "codemirror_mode": {
    "name": "ipython",
    "version": 3
   },
   "file_extension": ".py",
   "mimetype": "text/x-python",
   "name": "python",
   "nbconvert_exporter": "python",
   "pygments_lexer": "ipython3",
   "version": "3.10.1"
  },
  "orig_nbformat": 4
 },
 "nbformat": 4,
 "nbformat_minor": 2
}
