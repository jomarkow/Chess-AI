{
 "cells": [
  {
   "cell_type": "code",
   "execution_count": 1757,
   "metadata": {},
   "outputs": [],
   "source": [
    "import matplotlib.pyplot as plt\n",
    "import pandas as pd\n",
    "import numpy as np\n",
    "import debug\n",
    "import cv2"
   ]
  },
  {
   "cell_type": "code",
   "execution_count": 1758,
   "metadata": {},
   "outputs": [],
   "source": [
    "SIZE = 700\n",
    "\n",
    "image = cv2.imread(\"../images/boards/yellow_black_up.jpeg\")\n",
    "image_size = (SIZE,SIZE)\n",
    "image = cv2.resize(image,image_size)"
   ]
  },
  {
   "cell_type": "code",
   "execution_count": 1759,
   "metadata": {},
   "outputs": [],
   "source": [
    "def _detect_edges(image):\n",
    "    gray = cv2.cvtColor(image, cv2.COLOR_BGR2GRAY)\n",
    "    edges = cv2.Canny(gray, 90, 400, 3)\n",
    "    return edges\n",
    "\n",
    "edges_image = _detect_edges(image)"
   ]
  },
  {
   "cell_type": "code",
   "execution_count": 1760,
   "metadata": {},
   "outputs": [],
   "source": [
    "HOUGH_THRESHOLD = 100\n",
    "THETA_RESOLUTION = np.pi / 180\n",
    "RHO_RESOLUTION = 1\n",
    "\n",
    "def _generate_edges_lines(canny):\n",
    "    \n",
    "    lines = cv2.HoughLines(canny, \n",
    "                            rho = RHO_RESOLUTION, \n",
    "                            theta =  THETA_RESOLUTION, \n",
    "                            threshold = HOUGH_THRESHOLD)\n",
    "    \n",
    "    #Format dataset\n",
    "    lines = lines.reshape(len(lines),2)\n",
    "    \n",
    "    coor_lines = []\n",
    "    for line in lines:\n",
    "        rho,theta = line\n",
    "        a = np.cos(theta)\n",
    "        b = np.sin(theta)\n",
    "        x0 = a * rho\n",
    "        y0 = b * rho\n",
    "        x1 = int(x0 +1000*(-b))\n",
    "        y1 = int(y0 +1000*(a))\n",
    "        x2 = int(x0 -1000*(-b))\n",
    "        y2 = int(y0 -1000*(a))   \n",
    "        coor_lines.append(((x1,y1),(x2,y2)))\n",
    "    \n",
    "    return np.array(coor_lines)\n",
    "    \n",
    "lines = _generate_edges_lines(edges_image)"
   ]
  },
  {
   "cell_type": "code",
   "execution_count": 1761,
   "metadata": {},
   "outputs": [],
   "source": [
    "from sklearn.cluster import KMeans\n",
    "\n",
    "CLUSTERS_N = 9\n",
    "\n",
    "def _get_lines_means(points, direction, n_clusters = CLUSTERS_N):\n",
    "    \n",
    "    means = []\n",
    "\n",
    "    for lines in points:\n",
    "    \n",
    "        kmeans = KMeans(n_clusters = n_clusters, n_init='auto')\n",
    "        kmeans.fit(lines)\n",
    "        labels = kmeans.labels_\n",
    "    \n",
    "        unique_labels = list(range(n_clusters))\n",
    "    \n",
    "        cluster_means = []\n",
    "    \n",
    "        for label in unique_labels: \n",
    "            cluster_data = lines[labels == label] \n",
    "            cluster_mean = np.round(sum(cluster_data)/len(cluster_data))  \n",
    "            cluster_means.append(cluster_mean)\n",
    "        \n",
    "        cluster_means = np.array(cluster_means)\n",
    "        sorted_index = np.argsort(cluster_means[:, direction])\n",
    "        \n",
    "        means.append(cluster_means[sorted_index])\n",
    " \n",
    "    return means\n"
   ]
  },
  {
   "cell_type": "code",
   "execution_count": 1762,
   "metadata": {},
   "outputs": [
    {
     "data": {
      "text/plain": [
       "array([[[0, 0, 0],\n",
       "        [0, 0, 0],\n",
       "        [0, 0, 0],\n",
       "        ...,\n",
       "        [0, 0, 0],\n",
       "        [0, 0, 0],\n",
       "        [0, 0, 0]],\n",
       "\n",
       "       [[0, 0, 0],\n",
       "        [0, 0, 0],\n",
       "        [0, 0, 0],\n",
       "        ...,\n",
       "        [0, 0, 0],\n",
       "        [0, 0, 0],\n",
       "        [0, 0, 0]],\n",
       "\n",
       "       [[0, 0, 0],\n",
       "        [0, 0, 0],\n",
       "        [0, 0, 0],\n",
       "        ...,\n",
       "        [0, 0, 0],\n",
       "        [0, 0, 0],\n",
       "        [0, 0, 0]],\n",
       "\n",
       "       ...,\n",
       "\n",
       "       [[0, 0, 0],\n",
       "        [0, 0, 0],\n",
       "        [0, 0, 0],\n",
       "        ...,\n",
       "        [0, 0, 0],\n",
       "        [0, 0, 0],\n",
       "        [0, 0, 0]],\n",
       "\n",
       "       [[0, 0, 0],\n",
       "        [0, 0, 0],\n",
       "        [0, 0, 0],\n",
       "        ...,\n",
       "        [0, 0, 0],\n",
       "        [0, 0, 0],\n",
       "        [0, 0, 0]],\n",
       "\n",
       "       [[0, 0, 0],\n",
       "        [0, 0, 0],\n",
       "        [0, 0, 0],\n",
       "        ...,\n",
       "        [0, 0, 0],\n",
       "        [0, 0, 0],\n",
       "        [0, 0, 0]]], dtype=uint8)"
      ]
     },
     "execution_count": 1762,
     "metadata": {},
     "output_type": "execute_result"
    }
   ],
   "source": [
    "VERTICAL = 0\n",
    "HORIZONTAL = 1\n",
    "\n",
    "def _get_vertical_averages(lines):\n",
    "    \n",
    "    vertical_lines = lines[lines[:,0,1] > SIZE]\n",
    "    \n",
    "    initial_points = vertical_lines[:,1][vertical_lines[:,1,1] < SIZE]\n",
    "    final_points = vertical_lines[:,0][vertical_lines[:,0,1] > SIZE] \n",
    "    \n",
    "    averages = _get_lines_means((initial_points, final_points), VERTICAL)\n",
    "    \n",
    "    return np.stack(averages, axis=1)\n",
    "\n",
    "def _get_horizontal_averages(lines):\n",
    "\n",
    "    horizontal_lines = lines[lines[:,1,0] > SIZE]\n",
    "\n",
    "    initial_points = horizontal_lines[:,1][horizontal_lines[:,0,0] < SIZE]\n",
    "    final_points = horizontal_lines[:,0][horizontal_lines[:,1,0] > SIZE]\n",
    "    \n",
    "    averages = _get_lines_means((initial_points, final_points), HORIZONTAL)\n",
    "    \n",
    "    return np.stack(averages, axis=1)\n",
    "    \n",
    "vertical_lines = _get_vertical_averages(lines).astype(int)\n",
    "horizontal_lines = _get_horizontal_averages(lines).astype(int)\n",
    "\n",
    "lines = np.concatenate((vertical_lines,horizontal_lines), axis=0)\n",
    "\n",
    "debug.lines(image,lines, size = 3)\n"
   ]
  },
  {
   "cell_type": "markdown",
   "metadata": {},
   "source": [
    "Detect chesboard corners"
   ]
  },
  {
   "cell_type": "code",
   "execution_count": 1763,
   "metadata": {},
   "outputs": [
    {
     "name": "stderr",
     "output_type": "stream",
     "text": [
      "C:\\Users\\AMD R3\\AppData\\Local\\Temp\\ipykernel_8748\\3671007147.py:13: RuntimeWarning: overflow encountered in scalar multiply\n",
      "  return a[0] * b[1] - a[1] * b[0]\n",
      "C:\\Users\\AMD R3\\AppData\\Local\\Temp\\ipykernel_8748\\3671007147.py:13: RuntimeWarning: overflow encountered in scalar subtract\n",
      "  return a[0] * b[1] - a[1] * b[0]\n"
     ]
    },
    {
     "data": {
      "text/plain": [
       "array([[[0, 0, 0],\n",
       "        [0, 0, 0],\n",
       "        [0, 0, 0],\n",
       "        ...,\n",
       "        [0, 0, 0],\n",
       "        [0, 0, 0],\n",
       "        [0, 0, 0]],\n",
       "\n",
       "       [[0, 0, 0],\n",
       "        [0, 0, 0],\n",
       "        [0, 0, 0],\n",
       "        ...,\n",
       "        [0, 0, 0],\n",
       "        [0, 0, 0],\n",
       "        [0, 0, 0]],\n",
       "\n",
       "       [[0, 0, 0],\n",
       "        [0, 0, 0],\n",
       "        [0, 0, 0],\n",
       "        ...,\n",
       "        [0, 0, 0],\n",
       "        [0, 0, 0],\n",
       "        [0, 0, 0]],\n",
       "\n",
       "       ...,\n",
       "\n",
       "       [[0, 0, 0],\n",
       "        [0, 0, 0],\n",
       "        [0, 0, 0],\n",
       "        ...,\n",
       "        [0, 0, 0],\n",
       "        [0, 0, 0],\n",
       "        [0, 0, 0]],\n",
       "\n",
       "       [[0, 0, 0],\n",
       "        [0, 0, 0],\n",
       "        [0, 0, 0],\n",
       "        ...,\n",
       "        [0, 0, 0],\n",
       "        [0, 0, 0],\n",
       "        [0, 0, 0]],\n",
       "\n",
       "       [[0, 0, 0],\n",
       "        [0, 0, 0],\n",
       "        [0, 0, 0],\n",
       "        ...,\n",
       "        [0, 0, 0],\n",
       "        [0, 0, 0],\n",
       "        [0, 0, 0]]], dtype=uint8)"
      ]
     },
     "execution_count": 1763,
     "metadata": {},
     "output_type": "execute_result"
    }
   ],
   "source": [
    "def line_intersection(lines):\n",
    "\n",
    "    points =[]\n",
    "    for i in range(len(lines)):\n",
    "        for j in range(i + 1, len(lines)):\n",
    "\n",
    "            line1 = lines[i]\n",
    "            line2 = lines[j]\n",
    "            xdiff = (line1[0][0] - line1[1][0], line2[0][0] - line2[1][0])\n",
    "            ydiff = (line1[0][1] - line1[1][1], line2[0][1] - line2[1][1])\n",
    "\n",
    "            def det(a, b):\n",
    "                return a[0] * b[1] - a[1] * b[0]\n",
    "\n",
    "            div = det(xdiff, ydiff)\n",
    "            if div != 0:\n",
    "                \n",
    "\n",
    "                d = (det(*line1), det(*line2))\n",
    "                x = det(d, xdiff) / div\n",
    "                y = det(d, ydiff) / div\n",
    "                points.append((x,y)) \n",
    "    return points\n",
    "\n",
    "points = np.array(line_intersection(lines))\n",
    "\n",
    "lower_limit = 0\n",
    "upper_limit = 700\n",
    "\n",
    "# Create a mask to filter points within the range\n",
    "mask = (points[:, 0] >= lower_limit) & (points[:, 0] <= upper_limit) & \\\n",
    "       (points[:, 1] >= lower_limit) & (points[:, 1] <= upper_limit)\n",
    "       \n",
    "points = points[mask]\n",
    "\n",
    "debug.points(image,points, color = (0,255,0), size = 7)\n",
    "\n",
    "#print(len(sorted_intersections))"
   ]
  },
  {
   "cell_type": "markdown",
   "metadata": {},
   "source": [
    "Trim image"
   ]
  },
  {
   "cell_type": "code",
   "execution_count": 1764,
   "metadata": {},
   "outputs": [],
   "source": [
    "vertex = np.array(sorted_intersections, np.int32)\n",
    "black_mask = np.zeros_like(image)\n",
    "cv2.fillPoly(black_mask, [vertex], (255, 255, 255))\n",
    "trimmed_image = cv2.bitwise_and(image, black_mask)"
   ]
  },
  {
   "cell_type": "markdown",
   "metadata": {},
   "source": [
    "Detect inner corners"
   ]
  },
  {
   "cell_type": "code",
   "execution_count": 1765,
   "metadata": {},
   "outputs": [],
   "source": [
    "gray_trimmed_image = cv2.cvtColor(trimmed_image, cv2.COLOR_BGR2GRAY)\n",
    "max_corners = 80\n",
    "corners = cv2.goodFeaturesToTrack(gray_trimmed_image, max_corners, qualityLevel= 0.1, minDistance= 15)\n",
    "corners = np.intp(corners)\n",
    "actual_size = corners.shape[0], corners.shape[2]\n",
    "corners = corners.reshape(actual_size)\n",
    "\n",
    "debug.points(trimmed_image,corners, color=(0,255,0), size= 5);"
   ]
  },
  {
   "cell_type": "code",
   "execution_count": 1766,
   "metadata": {},
   "outputs": [
    {
     "data": {
      "text/plain": [
       "<matplotlib.collections.PathCollection at 0x1b30cf74a30>"
      ]
     },
     "execution_count": 1766,
     "metadata": {},
     "output_type": "execute_result"
    },
    {
     "data": {
      "image/png": "[encoded data removed]",
      "text/plain": [
       "<Figure size 640x480 with 1 Axes>"
      ]
     },
     "metadata": {},
     "output_type": "display_data"
    }
   ],
   "source": [
    "plt.scatter(corners[:,0], corners[:,1])"
   ]
  },
  {
   "cell_type": "code",
   "execution_count": 1767,
   "metadata": {},
   "outputs": [],
   "source": [
    "cv2.imshow('Imagen Original', image)\n",
    "cv2.imshow('canny', canny)\n",
    "#cv2.imshow('Imagen Recortada', trimmed_image)\n",
    "cv2.waitKey(0)\n",
    "cv2.destroyAllWindows()"
   ]
  }
 ],
 "metadata": {
  "kernelspec": {
   "display_name": "Python 3",
   "language": "python",
   "name": "python3"
  },
  "language_info": {
   "codemirror_mode": {
    "name": "ipython",
    "version": 3
   },
   "file_extension": ".py",
   "mimetype": "text/x-python",
   "name": "python",
   "nbconvert_exporter": "python",
   "pygments_lexer": "ipython3",
   "version": "3.10.1"
  },
  "orig_nbformat": 4
 },
 "nbformat": 4,
 "nbformat_minor": 2
}
