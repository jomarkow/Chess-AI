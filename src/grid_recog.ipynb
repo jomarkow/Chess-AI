{
 "cells": [
  {
   "cell_type": "code",
   "execution_count": 340,
   "metadata": {},
   "outputs": [],
   "source": [
    "import pandas as pd\n",
    "import cv2\n",
    "import numpy as np\n",
    "import matplotlib.pyplot as plt\n",
    "import debug\n"
   ]
  },
  {
   "cell_type": "markdown",
   "metadata": {},
   "source": []
  },
  {
   "cell_type": "code",
   "execution_count": 341,
   "metadata": {},
   "outputs": [],
   "source": [
    "# Configure image\n",
    "image = cv2.imread(\"../images/boards/yellow_black_up.jpeg\")\n",
    "image_size = (700,700)\n",
    "image = cv2.resize(image,image_size)\n",
    "gray = cv2.cvtColor(image, cv2.COLOR_BGR2GRAY)\n",
    "#canny = cv2.Canny(gray, threshold1=500, threshold2=100) "
   ]
  },
  {
   "cell_type": "code",
   "execution_count": 342,
   "metadata": {},
   "outputs": [],
   "source": [
    "def _detect_edges(gray: np.ndarray) -> np.ndarray:\n",
    "    if gray.dtype != np.uint8:\n",
    "        gray = gray / gray.max() * 255\n",
    "        gray = gray.astype(np.uint8)\n",
    "    edges = cv2.Canny(gray,\n",
    "                      90,\n",
    "                      400,\n",
    "                      3)\n",
    "    return edges"
   ]
  },
  {
   "cell_type": "code",
   "execution_count": 343,
   "metadata": {},
   "outputs": [],
   "source": [
    "canny = _detect_edges(gray)"
   ]
  },
  {
   "cell_type": "markdown",
   "metadata": {},
   "source": [
    "Detect chessboard borders"
   ]
  },
  {
   "cell_type": "code",
   "execution_count": 344,
   "metadata": {},
   "outputs": [
    {
     "name": "stdout",
     "output_type": "stream",
     "text": [
      "[[[670   1]\n",
      "  [670  -1]]\n",
      "\n",
      " [[524   1]\n",
      "  [524  -1]]\n",
      "\n",
      " [[587   1]\n",
      "  [587  -1]]\n",
      "\n",
      " [[597   1]\n",
      "  [597  -1]]\n",
      "\n",
      " [[439   1]\n",
      "  [439  -1]]\n",
      "\n",
      " [[290   1]\n",
      "  [290  -1]]\n",
      "\n",
      " [[650   1]\n",
      "  [650  -1]]\n",
      "\n",
      " [[365   1]\n",
      "  [365  -1]]\n",
      "\n",
      " [[441   1]\n",
      "  [441  -1]]\n",
      "\n",
      " [[449   1]\n",
      "  [449  -1]]\n",
      "\n",
      " [[648   1]\n",
      "  [648  -1]]\n",
      "\n",
      " [[667   1]\n",
      "  [667  -1]]\n",
      "\n",
      " [[514   1]\n",
      "  [514  -1]]\n",
      "\n",
      " [[ 60   1]\n",
      "  [ 60  -1]]\n",
      "\n",
      " [[374   1]\n",
      "  [374  -1]]\n",
      "\n",
      " [[297   1]\n",
      "  [297  -1]]\n",
      "\n",
      " [[213   1]\n",
      "  [213  -1]]\n",
      "\n",
      " [[301   6]\n",
      "  [301   4]]\n",
      "\n",
      " [[294   6]\n",
      "  [294   4]]\n",
      "\n",
      " [[ 62   2]\n",
      "  [ 63   0]]\n",
      "\n",
      " [[226   4]\n",
      "  [226   2]]\n",
      "\n",
      " [[140   3]\n",
      "  [140   1]]\n",
      "\n",
      " [[ 79   2]\n",
      "  [ 80   0]]\n",
      "\n",
      " [[149   3]\n",
      "  [149   1]]\n",
      "\n",
      " [[217   4]\n",
      "  [217   2]]\n",
      "\n",
      " [[438  -8]\n",
      "  [438  -6]]\n",
      "\n",
      " [[363  -7]\n",
      "  [363  -5]]\n",
      "\n",
      " [[130  -3]\n",
      "  [130  -1]]\n",
      "\n",
      " [[512  -9]\n",
      "  [512  -7]]\n",
      "\n",
      " [[210  -4]\n",
      "  [210  -2]]]\n"
     ]
    },
    {
     "data": {
      "text/plain": [
       "array([[[0, 0, 0],\n",
       "        [0, 0, 0],\n",
       "        [0, 0, 0],\n",
       "        ...,\n",
       "        [0, 0, 0],\n",
       "        [0, 0, 0],\n",
       "        [0, 0, 0]],\n",
       "\n",
       "       [[0, 0, 0],\n",
       "        [0, 0, 0],\n",
       "        [0, 0, 0],\n",
       "        ...,\n",
       "        [0, 0, 0],\n",
       "        [0, 0, 0],\n",
       "        [0, 0, 0]],\n",
       "\n",
       "       [[0, 0, 0],\n",
       "        [0, 0, 0],\n",
       "        [0, 0, 0],\n",
       "        ...,\n",
       "        [0, 0, 0],\n",
       "        [0, 0, 0],\n",
       "        [0, 0, 0]],\n",
       "\n",
       "       ...,\n",
       "\n",
       "       [[0, 0, 0],\n",
       "        [0, 0, 0],\n",
       "        [0, 0, 0],\n",
       "        ...,\n",
       "        [0, 0, 0],\n",
       "        [0, 0, 0],\n",
       "        [0, 0, 0]],\n",
       "\n",
       "       [[0, 0, 0],\n",
       "        [0, 0, 0],\n",
       "        [0, 0, 0],\n",
       "        ...,\n",
       "        [0, 0, 0],\n",
       "        [0, 0, 0],\n",
       "        [0, 0, 0]],\n",
       "\n",
       "       [[0, 0, 0],\n",
       "        [0, 0, 0],\n",
       "        [0, 0, 0],\n",
       "        ...,\n",
       "        [0, 0, 0],\n",
       "        [0, 0, 0],\n",
       "        [0, 0, 0]]], dtype=uint8)"
      ]
     },
     "execution_count": 344,
     "metadata": {},
     "output_type": "execute_result"
    }
   ],
   "source": [
    "lines = cv2.HoughLines(canny,rho = 1, theta = np.pi / 180, threshold = 100)\n",
    "\n",
    "def polar_to_coor(lines):\n",
    "    \n",
    "    lines = lines.reshape(len(lines),2)\n",
    "        \n",
    "    origin_lines = lines[lines[:, 1].argsort()]\n",
    "    \n",
    "    coor_lines = []\n",
    "    for line in origin_lines:\n",
    "        rho,theta = line\n",
    "        a = np.cos(theta)\n",
    "        b = np.sin(theta)\n",
    "        x0 = a * rho\n",
    "        y0 = b * rho\n",
    "        x1 = int(x0 +(-b))\n",
    "        y1 = int(y0 +(a))\n",
    "        x2 = int(x0 -(-b))\n",
    "        y2 = int(y0 -(a))   \n",
    "        coor_lines.append(((x1,y1),(x2,y2)))\n",
    "    \n",
    "    return coor_lines\n",
    "    \n",
    "lines = np.array(polar_to_coor(lines))  \n",
    "\n",
    "v_mask = np.array([any(value < 5 for _, value in row) for row in lines])\n",
    "h_mask = np.array([any(value < 5 for value,_ in row) for row in lines])\n",
    "# Use the mask to filter rows and create a new array\n",
    "vertical_lines = lines[v_mask]\n",
    "horizontal_lines = lines[h_mask]\n",
    "\n",
    "#debug.lines(image, lines, size = 7)\n",
    "print(vertical_lines)\n",
    "\n",
    "line_diff = 20\n",
    "margin_diff = 3\n",
    "\n",
    "while(True):\n",
    "    \n",
    "    if(vertical_lines[])\n",
    "    counter = counter + 1\n",
    "    \n"
   ]
  },
  {
   "cell_type": "markdown",
   "metadata": {},
   "source": [
    "Detect chesboard corners"
   ]
  },
  {
   "cell_type": "code",
   "execution_count": 345,
   "metadata": {},
   "outputs": [
    {
     "data": {
      "text/plain": [
       "array([[-98., 356.],\n",
       "       [-95., 350.],\n",
       "       [-94., 348.],\n",
       "       ...,\n",
       "       [768., 491.],\n",
       "       [778., 496.],\n",
       "       [788., 501.]])"
      ]
     },
     "execution_count": 345,
     "metadata": {},
     "output_type": "execute_result"
    }
   ],
   "source": [
    "def line_intersection(lines):\n",
    "\n",
    "    points =[]\n",
    "    for i in range(len(lines)):\n",
    "        for j in range(i + 1, len(lines)):\n",
    "\n",
    "            line1 = lines[i]\n",
    "            line2 = lines[j]\n",
    "            xdiff = (line1[0][0] - line1[1][0], line2[0][0] - line2[1][0])\n",
    "            ydiff = (line1[0][1] - line1[1][1], line2[0][1] - line2[1][1])\n",
    "\n",
    "            def det(a, b):\n",
    "                return a[0] * b[1] - a[1] * b[0]\n",
    "\n",
    "            div = det(xdiff, ydiff)\n",
    "            if div != 0:\n",
    "                \n",
    "\n",
    "                d = (det(*line1), det(*line2))\n",
    "                x = det(d, xdiff) / div\n",
    "                y = det(d, ydiff) / div\n",
    "                points.append((x,y)) \n",
    "    return points\n",
    "\n",
    "intersections = line_intersection(lines)\n",
    "\n",
    "#debug.points(image,inter,color = (0,255,0),size = 10)\n",
    "inters = np.array(intersections)\n",
    "inters = inters[np.all((-100 <= inters) & (inters <= 800), axis=1)] # Delete point outside -100 and 800\n",
    "sorted_intersections = inters[inters[:, 0].argsort()]\n",
    "\n",
    "sorted_intersections"
   ]
  },
  {
   "cell_type": "markdown",
   "metadata": {},
   "source": [
    "Trim image"
   ]
  },
  {
   "cell_type": "code",
   "execution_count": 346,
   "metadata": {},
   "outputs": [],
   "source": [
    "vertex = np.array(sorted_intersections, np.int32)\n",
    "black_mask = np.zeros_like(image)\n",
    "cv2.fillPoly(black_mask, [vertex], (255, 255, 255))\n",
    "trimmed_image = cv2.bitwise_and(image, black_mask)"
   ]
  },
  {
   "cell_type": "markdown",
   "metadata": {},
   "source": [
    "Detect inner corners"
   ]
  },
  {
   "cell_type": "code",
   "execution_count": 347,
   "metadata": {},
   "outputs": [],
   "source": [
    "gray_trimmed_image = cv2.cvtColor(trimmed_image, cv2.COLOR_BGR2GRAY)\n",
    "max_corners = 80\n",
    "corners = cv2.goodFeaturesToTrack(gray_trimmed_image, max_corners, qualityLevel= 0.1, minDistance= 15)\n",
    "corners = np.intp(corners)\n",
    "actual_size = corners.shape[0], corners.shape[2]\n",
    "corners = corners.reshape(actual_size)\n",
    "\n",
    "debug.points(trimmed_image,corners, color=(0,255,0), size= 5);"
   ]
  },
  {
   "cell_type": "code",
   "execution_count": 348,
   "metadata": {},
   "outputs": [
    {
     "data": {
      "text/plain": [
       "<matplotlib.collections.PathCollection at 0x1cf684e9c10>"
      ]
     },
     "execution_count": 348,
     "metadata": {},
     "output_type": "execute_result"
    },
    {
     "data": {
      "image/png": "[encoded data removed]",
      "text/plain": [
       "<Figure size 640x480 with 1 Axes>"
      ]
     },
     "metadata": {},
     "output_type": "display_data"
    }
   ],
   "source": [
    "plt.scatter(corners[:,0], corners[:,1])"
   ]
  },
  {
   "cell_type": "code",
   "execution_count": 349,
   "metadata": {},
   "outputs": [],
   "source": [
    "cv2.imshow('Imagen Original', image)\n",
    "cv2.imshow('canny', canny)\n",
    "#cv2.imshow('Imagen Recortada', trimmed_image)\n",
    "cv2.waitKey(0)\n",
    "cv2.destroyAllWindows()"
   ]
  }
 ],
 "metadata": {
  "kernelspec": {
   "display_name": "Python 3",
   "language": "python",
   "name": "python3"
  },
  "language_info": {
   "codemirror_mode": {
    "name": "ipython",
    "version": 3
   },
   "file_extension": ".py",
   "mimetype": "text/x-python",
   "name": "python",
   "nbconvert_exporter": "python",
   "pygments_lexer": "ipython3",
   "version": "3.11.5"
  },
  "orig_nbformat": 4
 },
 "nbformat": 4,
 "nbformat_minor": 2
}
