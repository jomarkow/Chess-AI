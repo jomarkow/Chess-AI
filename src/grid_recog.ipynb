{
 "cells": [
  {
   "cell_type": "code",
   "execution_count": 393,
   "metadata": {},
   "outputs": [],
   "source": [
    "import pandas as pd\n",
    "import cv2\n",
    "import numpy as np\n",
    "import matplotlib.pyplot as plt\n",
    "import debug\n"
   ]
  },
  {
   "cell_type": "markdown",
   "metadata": {},
   "source": []
  },
  {
   "cell_type": "code",
   "execution_count": 394,
   "metadata": {},
   "outputs": [],
   "source": [
    "# Configure image\n",
    "image = cv2.imread(\"../images/boards/red_white_angled.jpeg\")\n",
    "image_size = (700,700)\n",
    "image = cv2.resize(image,image_size)\n",
    "gray = cv2.cvtColor(image, cv2.COLOR_BGR2GRAY)\n",
    "canny = cv2.Canny(gray, threshold1=1150, threshold2=200) "
   ]
  },
  {
   "cell_type": "markdown",
   "metadata": {},
   "source": [
    "Detect chessboard borders"
   ]
  },
  {
   "cell_type": "code",
   "execution_count": 395,
   "metadata": {},
   "outputs": [],
   "source": [
    "lines = cv2.HoughLines(canny,rho = 1, theta = np.pi / 180, threshold = 200)\n",
    "lines = lines.reshape(len(lines),2)\n",
    "lines = lines[lines[:, 0].argsort()]\n",
    "\n",
    "HIGH_VALUE = 500\n",
    "while(len(lines) > 4):\n",
    "    \n",
    "    less_diff = HIGH_VALUE\n",
    "    \n",
    "    for i in range(len(lines)-1):\n",
    "        \n",
    "        difference = lines[i + 1][0] - lines[i][0]\n",
    "        if  difference < less_diff:\n",
    "            less_diff = difference\n",
    "            duplicate = i\n",
    "            \n",
    "    lines = np.delete(lines, duplicate, axis=0)\n",
    "\n",
    "def polar_to_coor(lines):\n",
    "    \n",
    "    coor_lines = []\n",
    "    for line in lines:\n",
    "        rho,theta = line\n",
    "        a = np.cos(theta)\n",
    "        b = np.sin(theta)\n",
    "        x0 = a * rho\n",
    "        y0 = b * rho\n",
    "        x1 = int(x0 +1000 *(-b))\n",
    "        y1 = int(y0 +1000*(a))\n",
    "        x2 = int(x0 -1000*(-b))\n",
    "        y2 = int(y0 -1000*(a))   \n",
    "        coor_lines.append(((x1,y1),(x2,y2)))\n",
    "    \n",
    "    return coor_lines\n",
    "    \n",
    "lines = polar_to_coor(lines)  \n",
    "\n",
    "#debug.lines(image, lines, size = 7)\n"
   ]
  },
  {
   "cell_type": "markdown",
   "metadata": {},
   "source": [
    "Detect chesboard corners"
   ]
  },
  {
   "cell_type": "code",
   "execution_count": 396,
   "metadata": {},
   "outputs": [
    {
     "data": {
      "text/plain": [
       "array([[ 30.41947039, 548.13372613],\n",
       "       [165.24506286,  43.58291399],\n",
       "       [556.40087604,  43.77858973],\n",
       "       [707.08962013, 536.28607469]])"
      ]
     },
     "execution_count": 396,
     "metadata": {},
     "output_type": "execute_result"
    }
   ],
   "source": [
    "def line_intersection(lines):\n",
    "\n",
    "    points =[]\n",
    "    for i in range(len(lines)):\n",
    "        for j in range(i + 1, len(lines)):\n",
    "\n",
    "            line1 = lines[i]\n",
    "            line2 = lines[j]\n",
    "            xdiff = (line1[0][0] - line1[1][0], line2[0][0] - line2[1][0])\n",
    "            ydiff = (line1[0][1] - line1[1][1], line2[0][1] - line2[1][1])\n",
    "\n",
    "            def det(a, b):\n",
    "                return a[0] * b[1] - a[1] * b[0]\n",
    "\n",
    "            div = det(xdiff, ydiff)\n",
    "            if div != 0:\n",
    "                \n",
    "\n",
    "                d = (det(*line1), det(*line2))\n",
    "                x = det(d, xdiff) / div\n",
    "                y = det(d, ydiff) / div\n",
    "                points.append((x,y)) \n",
    "    return points\n",
    "\n",
    "intersections = line_intersection(lines)\n",
    "\n",
    "#debug.points(image,inter,color = (0,255,0),size = 10)\n",
    "inters = np.array(intersections)\n",
    "inters = inters[np.all((-100 <= inters) & (inters <= 800), axis=1)] # Delete point outside -100 and 800\n",
    "sorted_intersections = inters[inters[:, 0].argsort()]\n",
    "\n",
    "sorted_intersections"
   ]
  },
  {
   "cell_type": "markdown",
   "metadata": {},
   "source": [
    "Trim image"
   ]
  },
  {
   "cell_type": "code",
   "execution_count": 397,
   "metadata": {},
   "outputs": [],
   "source": [
    "vertex = np.array(sorted_intersections, np.int32)\n",
    "black_mask = np.zeros_like(image)\n",
    "cv2.fillPoly(black_mask, [vertex], (255, 255, 255))\n",
    "trimmed_image = cv2.bitwise_and(image, black_mask)"
   ]
  },
  {
   "cell_type": "markdown",
   "metadata": {},
   "source": [
    "Detect inner corners"
   ]
  },
  {
   "cell_type": "code",
   "execution_count": 398,
   "metadata": {},
   "outputs": [],
   "source": [
    "gray_trimmed_image = cv2.cvtColor(trimmed_image, cv2.COLOR_BGR2GRAY)\n",
    "max_corners = 80\n",
    "corners = cv2.goodFeaturesToTrack(gray_trimmed_image, max_corners, qualityLevel= 0.1, minDistance= 15)\n",
    "corners = np.intp(corners)\n",
    "actual_size = corners.shape[0], corners.shape[2]\n",
    "corners = corners.reshape(actual_size)\n",
    "\n",
    "debug.points(trimmed_image,corners, color=(0,255,0), size= 5);"
   ]
  },
  {
   "cell_type": "code",
   "execution_count": 399,
   "metadata": {},
   "outputs": [
    {
     "data": {
      "text/plain": [
       "<matplotlib.collections.PathCollection at 0x1b66b6df350>"
      ]
     },
     "execution_count": 399,
     "metadata": {},
     "output_type": "execute_result"
    },
    {
     "data": {
      "image/png": "[encoded data removed]",
      "text/plain": [
       "<Figure size 640x480 with 1 Axes>"
      ]
     },
     "metadata": {},
     "output_type": "display_data"
    }
   ],
   "source": [
    "plt.scatter(corners[:,0], corners[:,1])"
   ]
  },
  {
   "cell_type": "code",
   "execution_count": 400,
   "metadata": {},
   "outputs": [],
   "source": [
    "cv2.imshow('Imagen Original', image)\n",
    "#cv2.imshow('canny', canny)\n",
    "cv2.imshow('Imagen Recortada', trimmed_image)\n",
    "cv2.waitKey(0)\n",
    "cv2.destroyAllWindows()"
   ]
  }
 ],
 "metadata": {
  "kernelspec": {
   "display_name": "Python 3",
   "language": "python",
   "name": "python3"
  },
  "language_info": {
   "codemirror_mode": {
    "name": "ipython",
    "version": 3
   },
   "file_extension": ".py",
   "mimetype": "text/x-python",
   "name": "python",
   "nbconvert_exporter": "python",
   "pygments_lexer": "ipython3",
   "version": "3.11.4"
  },
  "orig_nbformat": 4
 },
 "nbformat": 4,
 "nbformat_minor": 2
}
