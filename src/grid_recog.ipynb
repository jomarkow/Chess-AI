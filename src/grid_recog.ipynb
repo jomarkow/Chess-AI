{
 "cells": [
  {
   "cell_type": "code",
   "execution_count": 776,
   "metadata": {},
   "outputs": [],
   "source": [
    "%run ../config/config.py\n",
    "#from config.config import *\n",
    "import pandas as pd\n",
    "import numpy as np\n",
    "import debug\n",
    "import cv2"
   ]
  },
  {
   "cell_type": "code",
   "execution_count": 777,
   "metadata": {},
   "outputs": [],
   "source": [
    "image = cv2.imread(BLACK_YELLOW)\n",
    "image_size = (SIZE,SIZE)\n",
    "image = cv2.resize(image,image_size)"
   ]
  },
  {
   "cell_type": "code",
   "execution_count": 778,
   "metadata": {},
   "outputs": [],
   "source": [
    "def _detect_edges(image):\n",
    "    gray = cv2.cvtColor(image, cv2.COLOR_BGR2GRAY)\n",
    "    edges = cv2.Canny(gray, THRESHOLD1, THRESHOLD2, EDGES)\n",
    "    return edges\n",
    "\n",
    "edges_image = _detect_edges(image)"
   ]
  },
  {
   "cell_type": "code",
   "execution_count": 779,
   "metadata": {},
   "outputs": [],
   "source": [
    "def _generate_edges_lines(canny):\n",
    "    \n",
    "    lines = cv2.HoughLines(canny, \n",
    "                            rho = RHO_RESOLUTION, \n",
    "                            theta =  THETA_RESOLUTION, \n",
    "                            threshold = HOUGH_THRESHOLD)\n",
    "    \n",
    "    #Format dataset\n",
    "    lines = lines.reshape(len(lines),2)\n",
    "    \n",
    "    coor_lines = []\n",
    "    for line in lines:\n",
    "        rho,theta = line\n",
    "        a = np.cos(theta)\n",
    "        b = np.sin(theta)\n",
    "        x0 = a * rho\n",
    "        y0 = b * rho\n",
    "        x1 = int(x0 +DISTANCE*(-b))\n",
    "        y1 = int(y0 +DISTANCE*(a))\n",
    "        x2 = int(x0 -DISTANCE*(-b))\n",
    "        y2 = int(y0 -DISTANCE*(a))   \n",
    "        coor_lines.append(((x1,y1),(x2,y2)))\n",
    "    \n",
    "    return np.array(coor_lines)\n",
    "    \n",
    "lines = _generate_edges_lines(edges_image)"
   ]
  },
  {
   "cell_type": "code",
   "execution_count": 780,
   "metadata": {},
   "outputs": [],
   "source": [
    "from sklearn.cluster import KMeans\n",
    "\n",
    "def _get_lines_means(points, direction, n_clusters = 9):\n",
    "    \n",
    "    means = []\n",
    "\n",
    "    for lines in points:\n",
    "    \n",
    "        kmeans = KMeans(n_clusters = n_clusters, n_init=10)\n",
    "        kmeans.fit(lines)\n",
    "        labels = kmeans.labels_\n",
    "    \n",
    "        unique_labels = list(range(n_clusters))\n",
    "    \n",
    "        cluster_means = []\n",
    "    \n",
    "        for label in unique_labels: \n",
    "            cluster_data = lines[labels == label] \n",
    "            cluster_mean = np.round(sum(cluster_data)/len(cluster_data))  \n",
    "            cluster_means.append(cluster_mean)\n",
    "        \n",
    "        cluster_means = np.array(cluster_means)\n",
    "        sorted_index = np.argsort(cluster_means[:, direction])\n",
    "        \n",
    "        means.append(cluster_means[sorted_index])\n",
    " \n",
    "    return means\n"
   ]
  },
  {
   "cell_type": "code",
   "execution_count": 781,
   "metadata": {},
   "outputs": [],
   "source": [
    "\n",
    "\n",
    "def _get_vertical_averages(lines):\n",
    "    \n",
    "    vertical_lines = lines[lines[:,0,1] > SIZE]\n",
    "    \n",
    "    initial_points = vertical_lines[:,1][vertical_lines[:,1,1] < -SIZE]\n",
    "    final_points = vertical_lines[:,0][vertical_lines[:,0,1] > SIZE] \n",
    "    \n",
    "    averages = _get_lines_means((initial_points, final_points), VERTICAL)\n",
    "    \n",
    "    return np.stack(averages, axis=1)\n",
    "\n",
    "def _get_horizontal_averages(lines):\n",
    "\n",
    "    horizontal_lines = lines[lines[:,1,0] > SIZE]\n",
    "    \n",
    "    initial_points = horizontal_lines[:,0][horizontal_lines[:,0,0] < -SIZE]\n",
    "    final_points = horizontal_lines[:,1][horizontal_lines[:,1,0] > SIZE]\n",
    "    \n",
    "    averages = _get_lines_means((initial_points, final_points), HORIZONTAL)\n",
    "    \n",
    "    return np.stack(averages, axis=1)\n",
    "    \n",
    "vertical_lines = _get_vertical_averages(lines).astype(int)\n",
    "horizontal_lines = _get_horizontal_averages(lines).astype(int)\n",
    "\n",
    "lines = np.concatenate((vertical_lines,horizontal_lines), axis=0)\n",
    "\n",
    "#debug.lines(image,lines, size = 3);\n"
   ]
  },
  {
   "cell_type": "code",
   "execution_count": 782,
   "metadata": {},
   "outputs": [],
   "source": [
    "def _detect_inner_corners(lines, corners = MAX_CORNERS):\n",
    "    \n",
    "    black_image = np.zeros((SIZE, SIZE, EDGES), dtype=np.uint8)\n",
    "    debug.lines(black_image,lines, size = 1);\n",
    "    black_image = _detect_edges(black_image)\n",
    "    points = cv2.goodFeaturesToTrack(black_image, corners, QUALITY, MIN_DISTANCE)\n",
    "    return points.reshape(len(points),2)\n",
    "#debug.lines(image,lines, size = 1);\n",
    "points =  _detect_inner_corners(lines)\n"
   ]
  },
  {
   "cell_type": "code",
   "execution_count": 783,
   "metadata": {},
   "outputs": [
    {
     "data": {
      "text/plain": [
       "'import itertools\\n\\ndef line_intersections(line1, line2):\\n    x1, y1 = line1[0]\\n    x2, y2 = line1[1]\\n    x3, y3 = line2[0]\\n    x4, y4 = line2[1]\\n\\n    # Calculate the denominator for the intersection point calculation\\n    denominator = (x1 - x2) * (y3 - y4) - (y1 - y2) * (x3 - x4)\\n    if  0 in denominator:\\n        return None  # Lines are parallel and do not intersect\\n\\n    # Calculate the intersection point\\n    px = ((x1 * y2 - y1 * x2) * (x3 - x4) - (x1 - x2) * (x3 * y4 - y3 * x4)) / denominator\\n    py = ((x1 * y2 - y1 * x2) * (y3 - y4) - (y1 - y2) * (x3 * y4 - y3 * x4)) / denominator\\n\\n    return (px, py)\\n\\ndef line_intersection(lines):\\n\\n    lines = list(itertools.combinations(lines, 2))\\n    intersections = []\\n\\n    for i in range(len(lines)):\\n        intersection = line_intersections(lines[0], lines[1])\\n        if intersection is not None:\\n                intersections.append(intersection)\\n            \\n    return np.array(points)\\n\\n\\n\\n#print(lines)\\npoints = line_intersection(lines)\\n\\nprint(points)\\n\\nlower_limit = -1000\\nupper_limit = 1000\\n#points = points.astype(int)\\n# Create a mask to filter points within the range\\n#mask = (points[:, 0] >= lower_limit) & (points[:, 0] <= upper_limit) & (points[:, 1] >= lower_limit) & (points[:, 1] <= upper_limit)\\n\\n#points = points[mask]\\n\\nprint(len(points))\\ndebug.points(image,points, color = (0,255,0), size = 7);\\n\\n#print(len(sorted_intersections))'"
      ]
     },
     "execution_count": 783,
     "metadata": {},
     "output_type": "execute_result"
    }
   ],
   "source": [
    "\"\"\"import itertools\n",
    "\n",
    "def line_intersections(line1, line2):\n",
    "    x1, y1 = line1[0]\n",
    "    x2, y2 = line1[1]\n",
    "    x3, y3 = line2[0]\n",
    "    x4, y4 = line2[1]\n",
    "\n",
    "    # Calculate the denominator for the intersection point calculation\n",
    "    denominator = (x1 - x2) * (y3 - y4) - (y1 - y2) * (x3 - x4)\n",
    "    if  0 in denominator:\n",
    "        return None  # Lines are parallel and do not intersect\n",
    "\n",
    "    # Calculate the intersection point\n",
    "    px = ((x1 * y2 - y1 * x2) * (x3 - x4) - (x1 - x2) * (x3 * y4 - y3 * x4)) / denominator\n",
    "    py = ((x1 * y2 - y1 * x2) * (y3 - y4) - (y1 - y2) * (x3 * y4 - y3 * x4)) / denominator\n",
    "\n",
    "    return (px, py)\n",
    "\n",
    "def line_intersection(lines):\n",
    "\n",
    "    lines = list(itertools.combinations(lines, 2))\n",
    "    intersections = []\n",
    "\n",
    "    for i in range(len(lines)):\n",
    "        intersection = line_intersections(lines[0], lines[1])\n",
    "        if intersection is not None:\n",
    "                intersections.append(intersection)\n",
    "            \n",
    "    return np.array(points)\n",
    "\n",
    "\n",
    "\n",
    "#print(lines)\n",
    "points = line_intersection(lines)\n",
    "\n",
    "print(points)\n",
    "\n",
    "lower_limit = -1000\n",
    "upper_limit = 1000\n",
    "#points = points.astype(int)\n",
    "# Create a mask to filter points within the range\n",
    "#mask = (points[:, 0] >= lower_limit) & (points[:, 0] <= upper_limit) & (points[:, 1] >= lower_limit) & (points[:, 1] <= upper_limit)\n",
    "\n",
    "#points = points[mask]\n",
    "\n",
    "print(len(points))\n",
    "debug.points(image,points, color = (0,255,0), size = 7);\n",
    "\n",
    "#print(len(sorted_intersections))\"\"\""
   ]
  },
  {
   "cell_type": "code",
   "execution_count": 784,
   "metadata": {},
   "outputs": [],
   "source": [
    "def _get_middle_squares(lines):\n",
    "\n",
    "    middle_lines = []\n",
    "\n",
    "    for i in range(17):\n",
    "        \n",
    "        if i == 8: continue\n",
    "        \n",
    "        mean = (lines[i] +lines[i+1])/2\n",
    "        \n",
    "        middle_line = mean.astype(int).tolist()\n",
    "        middle_lines.append(middle_line)\n",
    "        \n",
    "    corners = _detect_inner_corners(middle_lines, 64)\n",
    "    return corners\n",
    "\n",
    "middle_points = _get_middle_squares(lines)\n"
   ]
  },
  {
   "cell_type": "code",
   "execution_count": 785,
   "metadata": {},
   "outputs": [],
   "source": [
    "def _distance(a, b):\n",
    "    \n",
    "    x_diff = abs(a[0] - b[0])\n",
    "    y_diff = abs(a[1] - b[1])\n",
    "    \n",
    "    distance = np.sqrt(x_diff**2 + y_diff**2)\n",
    "    \n",
    "    return distance"
   ]
  },
  {
   "cell_type": "code",
   "execution_count": 786,
   "metadata": {},
   "outputs": [
    {
     "name": "stdout",
     "output_type": "stream",
     "text": [
      "[[[220.0, 263.0], [219.0, 345.0], [297.0, 264.0], [297.0, 346.0]], [[69.0, 122.0], [63.0, 193.0], [147.0, 124.0], [145.0, 194.0]], [[138.0, 579.0], [137.0, 645.0], [215.0, 645.0], [216.0, 578.0]], [[64.0, 580.0], [137.0, 645.0], [63.0, 646.0], [138.0, 579.0]], [[294.0, 578.0], [294.0, 644.0], [370.0, 644.0], [370.0, 577.0]], [[216.0, 578.0], [215.0, 645.0], [294.0, 644.0], [294.0, 578.0]], [[517.0, 643.0], [517.0, 576.0], [444.0, 577.0], [438.0, 643.0]], [[438.0, 643.0], [370.0, 577.0], [444.0, 577.0], [370.0, 644.0]], [[659.0, 642.0], [588.0, 576.0], [660.0, 575.0], [588.0, 643.0]], [[588.0, 576.0], [588.0, 643.0], [517.0, 576.0], [517.0, 643.0]], [[138.0, 579.0], [134.0, 509.0], [216.0, 578.0], [216.0, 509.0]], [[134.0, 509.0], [138.0, 579.0], [64.0, 580.0], [64.0, 508.0]], [[517.0, 576.0], [518.0, 510.0], [445.0, 510.0], [444.0, 577.0]], [[444.0, 577.0], [371.0, 510.0], [445.0, 510.0], [370.0, 577.0]], [[370.0, 577.0], [371.0, 510.0], [295.0, 509.0], [294.0, 578.0]], [[216.0, 509.0], [216.0, 578.0], [294.0, 578.0], [295.0, 509.0]], [[589.0, 511.0], [660.0, 511.0], [660.0, 575.0], [588.0, 576.0]], [[589.0, 511.0], [588.0, 576.0], [518.0, 510.0], [517.0, 576.0]], [[661.0, 431.0], [590.0, 430.0], [660.0, 511.0], [589.0, 511.0]], [[590.0, 430.0], [589.0, 511.0], [518.0, 510.0], [519.0, 429.0]], [[519.0, 429.0], [518.0, 510.0], [446.0, 428.0], [445.0, 510.0]], [[372.0, 427.0], [446.0, 428.0], [371.0, 510.0], [445.0, 510.0]], [[296.0, 426.0], [372.0, 427.0], [295.0, 509.0], [371.0, 510.0]], [[218.0, 425.0], [296.0, 426.0], [295.0, 509.0], [216.0, 509.0]], [[141.0, 424.0], [218.0, 425.0], [216.0, 509.0], [134.0, 509.0]], [[134.0, 509.0], [141.0, 424.0], [66.0, 423.0], [64.0, 508.0]], [[661.0, 349.0], [591.0, 348.0], [590.0, 430.0], [661.0, 431.0]], [[591.0, 348.0], [590.0, 430.0], [520.0, 347.0], [519.0, 429.0]], [[446.0, 428.0], [519.0, 429.0], [447.0, 347.0], [520.0, 347.0]], [[372.0, 427.0], [373.0, 346.0], [447.0, 347.0], [446.0, 428.0]], [[297.0, 346.0], [296.0, 426.0], [373.0, 346.0], [372.0, 427.0]], [[219.0, 345.0], [297.0, 346.0], [218.0, 425.0], [296.0, 426.0]], [[143.0, 344.0], [141.0, 424.0], [219.0, 345.0], [218.0, 425.0]], [[67.0, 344.0], [143.0, 344.0], [66.0, 423.0], [141.0, 424.0]], [[661.0, 267.0], [592.0, 266.0], [591.0, 348.0], [661.0, 349.0]], [[520.0, 347.0], [591.0, 348.0], [592.0, 266.0], [521.0, 265.0]], [[520.0, 347.0], [447.0, 265.0], [521.0, 265.0], [447.0, 347.0]], [[373.0, 346.0], [447.0, 265.0], [447.0, 347.0], [373.0, 264.0]], [[297.0, 264.0], [373.0, 264.0], [297.0, 346.0], [373.0, 346.0]], [[143.0, 344.0], [144.0, 262.0], [219.0, 345.0], [220.0, 263.0]], [[68.0, 262.0], [143.0, 344.0], [67.0, 344.0], [144.0, 262.0]], [[593.0, 200.0], [662.0, 201.0], [661.0, 267.0], [592.0, 266.0]], [[522.0, 199.0], [593.0, 200.0], [592.0, 266.0], [521.0, 265.0]], [[521.0, 265.0], [522.0, 199.0], [448.0, 198.0], [447.0, 265.0]], [[447.0, 265.0], [448.0, 198.0], [374.0, 197.0], [373.0, 264.0]], [[373.0, 264.0], [374.0, 197.0], [298.0, 196.0], [297.0, 264.0]], [[220.0, 263.0], [298.0, 196.0], [297.0, 264.0], [221.0, 189.0]], [[145.0, 194.0], [144.0, 262.0], [220.0, 263.0], [221.0, 189.0]], [[145.0, 194.0], [144.0, 262.0], [68.0, 262.0], [63.0, 193.0]], [[662.0, 132.0], [593.0, 200.0], [662.0, 201.0], [594.0, 125.0]], [[522.0, 199.0], [593.0, 200.0], [594.0, 125.0], [517.0, 130.0]], [[517.0, 130.0], [449.0, 129.0], [448.0, 198.0], [522.0, 199.0]], [[375.0, 127.0], [449.0, 129.0], [374.0, 197.0], [448.0, 198.0]], [[299.0, 126.0], [298.0, 196.0], [375.0, 127.0], [374.0, 197.0]], [[221.0, 189.0], [221.0, 125.0], [299.0, 126.0], [298.0, 196.0]], [[147.0, 124.0], [221.0, 125.0], [221.0, 189.0], [145.0, 194.0]], [[594.0, 125.0], [662.0, 132.0], [663.0, 60.0], [594.0, 59.0]], [[594.0, 125.0], [594.0, 59.0], [523.0, 57.0], [517.0, 130.0]], [[517.0, 130.0], [449.0, 129.0], [523.0, 57.0], [449.0, 56.0]], [[449.0, 56.0], [375.0, 127.0], [375.0, 54.0], [449.0, 129.0]], [[375.0, 54.0], [299.0, 126.0], [375.0, 127.0], [299.0, 52.0]], [[222.0, 51.0], [299.0, 52.0], [221.0, 125.0], [299.0, 126.0]], [[147.0, 124.0], [222.0, 51.0], [148.0, 49.0], [221.0, 125.0]], [[148.0, 49.0], [147.0, 124.0], [69.0, 122.0], [64.0, 47.0]]]\n"
     ]
    }
   ],
   "source": [
    "def _get_grid(points, lines):\n",
    "    grid_points = _detect_inner_corners(lines)\n",
    "    \n",
    "    grid = []\n",
    "    \n",
    "    for middle_point in points:\n",
    "        \n",
    "        distances = []\n",
    "        \n",
    "        for point in grid_points:\n",
    "            \n",
    "            distances.append(_distance(middle_point, point))\n",
    "            \n",
    "        index = np.argsort(distances)\n",
    "        \n",
    "        order = grid_points[index]\n",
    "        \n",
    "        final = order[:4].tolist()\n",
    "        \n",
    "        grid.append(final)\n",
    "        \n",
    "    #grid_index = np.argsort(middle_point)\n",
    "    return grid\n",
    "    #print(_distance(points, grid_points))\n",
    "\n",
    "\n",
    "grid = _get_grid(middle_points, lines)\n",
    "debug.points(image, grid[24], color = RED, size = 8)\n",
    "print(grid)"
   ]
  },
  {
   "cell_type": "code",
   "execution_count": 787,
   "metadata": {},
   "outputs": [],
   "source": [
    "\n",
    "cv2.imshow(\"Image\", image)\n",
    "cv2.waitKey(0)\n",
    "cv2.destroyAllWindows()"
   ]
  }
 ],
 "metadata": {
  "kernelspec": {
   "display_name": "Python 3",
   "language": "python",
   "name": "python3"
  },
  "language_info": {
   "codemirror_mode": {
    "name": "ipython",
    "version": 3
   },
   "file_extension": ".py",
   "mimetype": "text/x-python",
   "name": "python",
   "nbconvert_exporter": "python",
   "pygments_lexer": "ipython3",
   "version": "3.11.5"
  },
  "orig_nbformat": 4
 },
 "nbformat": 4,
 "nbformat_minor": 2
}
