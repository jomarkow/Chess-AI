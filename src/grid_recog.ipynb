{
 "cells": [
  {
   "cell_type": "code",
   "execution_count": 200,
   "metadata": {},
   "outputs": [],
   "source": [
    "import pandas as pd\n",
    "import cv2\n",
    "import numpy as np\n",
    "import matplotlib.pyplot as plt\n",
    "import debug\n"
   ]
  },
  {
   "cell_type": "markdown",
   "metadata": {},
   "source": []
  },
  {
   "cell_type": "code",
   "execution_count": 201,
   "metadata": {},
   "outputs": [],
   "source": [
    "# Configure image\n",
    "image = cv2.imread(\"../images/boards/red_white_angled.jpeg\")\n",
    "image_size = (700,700)\n",
    "image = cv2.resize(image,image_size)\n",
    "gray = cv2.cvtColor(image, cv2.COLOR_BGR2GRAY)\n",
    "canny = cv2.Canny(gray, threshold1=1150, threshold2=200) "
   ]
  },
  {
   "cell_type": "markdown",
   "metadata": {},
   "source": [
    "Detect chessboard borders"
   ]
  },
  {
   "cell_type": "code",
   "execution_count": 202,
   "metadata": {},
   "outputs": [],
   "source": [
    "lines = cv2.HoughLines(canny,rho = 1, theta = np.pi / 180, threshold = 200)\n",
    "lines = lines.reshape(len(lines),2)\n",
    "lines = lines[lines[:, 0].argsort()]\n",
    "\n",
    "HIGH_VALUE = 500\n",
    "while(len(lines) > 4):\n",
    "    \n",
    "    less_diff = HIGH_VALUE\n",
    "    \n",
    "    for i in range(len(lines)-1):\n",
    "        \n",
    "        difference = lines[i + 1][0] - lines[i][0]\n",
    "        if  difference < less_diff:\n",
    "            less_diff = difference\n",
    "            duplicate = i\n",
    "            \n",
    "    lines = np.delete(lines, duplicate, axis=0)\n",
    "\n",
    "def polar_to_coor(lines):\n",
    "    \n",
    "    coor_lines = []\n",
    "    for line in lines:\n",
    "        rho,theta = line\n",
    "        a = np.cos(theta)\n",
    "        b = np.sin(theta)\n",
    "        x0 = a * rho\n",
    "        y0 = b * rho\n",
    "        x1 = int(x0 +1000 *(-b))\n",
    "        y1 = int(y0 +1000*(a))\n",
    "        x2 = int(x0 -1000*(-b))\n",
    "        y2 = int(y0 -1000*(a))   \n",
    "        coor_lines.append(((x1,y1),(x2,y2)))\n",
    "    \n",
    "    return coor_lines\n",
    "    \n",
    "lines = polar_to_coor(lines)  \n",
    "\n",
    "#debug.lines(image, lines, size = 7)\n"
   ]
  },
  {
   "cell_type": "markdown",
   "metadata": {},
   "source": [
    "Detect chesboard corners"
   ]
  },
  {
   "cell_type": "code",
   "execution_count": 203,
   "metadata": {},
   "outputs": [
    {
     "data": {
      "text/plain": [
       "array([[ 30.41947039, 548.13372613],\n",
       "       [165.24506286,  43.58291399],\n",
       "       [556.40087604,  43.77858973],\n",
       "       [707.08962013, 536.28607469]])"
      ]
     },
     "execution_count": 203,
     "metadata": {},
     "output_type": "execute_result"
    }
   ],
   "source": [
    "def line_intersection(lines):\n",
    "\n",
    "    points =[]\n",
    "    for i in range(len(lines)):\n",
    "        for j in range(i + 1, len(lines)):\n",
    "\n",
    "            line1 = lines[i]\n",
    "            line2 = lines[j]\n",
    "            xdiff = (line1[0][0] - line1[1][0], line2[0][0] - line2[1][0])\n",
    "            ydiff = (line1[0][1] - line1[1][1], line2[0][1] - line2[1][1])\n",
    "\n",
    "            def det(a, b):\n",
    "                return a[0] * b[1] - a[1] * b[0]\n",
    "\n",
    "            div = det(xdiff, ydiff)\n",
    "            if div != 0:\n",
    "                \n",
    "\n",
    "                d = (det(*line1), det(*line2))\n",
    "                x = det(d, xdiff) / div\n",
    "                y = det(d, ydiff) / div\n",
    "                points.append((x,y)) \n",
    "    return points\n",
    "\n",
    "intersections = line_intersection(lines)\n",
    "\n",
    "#debug.points(image,inter,color = (0,255,0),size = 10)\n",
    "inters = np.array(intersections)\n",
    "inters = inters[np.all((-100 <= inters) & (inters <= 800), axis=1)] # Delete point outside -100 and 800\n",
    "sorted_intersections = inters[inters[:, 0].argsort()]\n",
    "\n",
    "sorted_intersections"
   ]
  },
  {
   "cell_type": "markdown",
   "metadata": {},
   "source": [
    "Trim image"
   ]
  },
  {
   "cell_type": "code",
   "execution_count": 204,
   "metadata": {},
   "outputs": [],
   "source": [
    "vertex = np.array(sorted_intersections, np.int32)\n",
    "black_mask = np.zeros_like(image)\n",
    "cv2.fillPoly(black_mask, [vertex], (255, 255, 255))\n",
    "trimmed_image = cv2.bitwise_and(image, black_mask)"
   ]
  },
  {
   "cell_type": "markdown",
   "metadata": {},
   "source": [
    "Detect inner corners"
   ]
  },
  {
   "cell_type": "code",
   "execution_count": 205,
   "metadata": {},
   "outputs": [
    {
     "data": {
      "text/plain": [
       "array([[[ 60,  45,  67],\n",
       "        [ 58,  45,  67],\n",
       "        [ 57,  44,  66],\n",
       "        ...,\n",
       "        [122, 114, 137],\n",
       "        [121, 113, 136],\n",
       "        [120, 112, 135]],\n",
       "\n",
       "       [[ 62,  49,  71],\n",
       "        [ 61,  48,  71],\n",
       "        [ 60,  48,  70],\n",
       "        ...,\n",
       "        [118, 110, 133],\n",
       "        [117, 109, 132],\n",
       "        [116, 108, 131]],\n",
       "\n",
       "       [[ 65,  55,  76],\n",
       "        [ 64,  54,  76],\n",
       "        [ 62,  54,  75],\n",
       "        ...,\n",
       "        [120, 112, 135],\n",
       "        [120, 112, 135],\n",
       "        [120, 112, 135]],\n",
       "\n",
       "       ...,\n",
       "\n",
       "       [[ 11,   6,   7],\n",
       "        [ 11,   6,   7],\n",
       "        [ 11,   6,   7],\n",
       "        ...,\n",
       "        [ 68,  45,  39],\n",
       "        [ 62,  40,  34],\n",
       "        [ 65,  43,  37]],\n",
       "\n",
       "       [[ 11,   6,   7],\n",
       "        [ 11,   6,   7],\n",
       "        [ 11,   6,   7],\n",
       "        ...,\n",
       "        [ 55,  37,  30],\n",
       "        [ 49,  31,  24],\n",
       "        [ 60,  42,  35]],\n",
       "\n",
       "       [[ 11,   6,   8],\n",
       "        [ 11,   6,   8],\n",
       "        [ 11,   6,   8],\n",
       "        ...,\n",
       "        [ 45,  29,  20],\n",
       "        [ 35,  20,  11],\n",
       "        [ 50,  34,  27]]], dtype=uint8)"
      ]
     },
     "execution_count": 205,
     "metadata": {},
     "output_type": "execute_result"
    }
   ],
   "source": [
    "gray_trimmed_image = cv2.cvtColor(trimmed_image, cv2.COLOR_BGR2GRAY)\n",
    "max_corners = 100\n",
    "corners = cv2.goodFeaturesToTrack(gray_trimmed_image, max_corners, qualityLevel= 0.07, minDistance= 15)\n",
    "corners = np.intp(corners)\n",
    "actual_size = corners.shape[0], corners.shape[2]\n",
    "corners = corners.reshape(actual_size)\n",
    "\n",
    "debug.points(image,corners)"
   ]
  },
  {
   "cell_type": "code",
   "execution_count": 206,
   "metadata": {},
   "outputs": [
    {
     "data": {
      "text/plain": [
       "<matplotlib.collections.PathCollection at 0x1b66732e8d0>"
      ]
     },
     "execution_count": 206,
     "metadata": {},
     "output_type": "execute_result"
    },
    {
     "data": {
      "image/png": "[encoded data removed]",
      "text/plain": [
       "<Figure size 640x480 with 1 Axes>"
      ]
     },
     "metadata": {},
     "output_type": "display_data"
    }
   ],
   "source": [
    "plt.scatter(corners[:,0], corners[:,1])"
   ]
  },
  {
   "cell_type": "markdown",
   "metadata": {},
   "source": [
    "#cv2.imshow('Imagen Original', image)\n",
    "#cv2.imshow('canny', canny)\n",
    "cv2.imshow('Imagen Recortada', trimmed_image)\n",
    "cv2.waitKey(0)\n",
    "cv2.destroyAllWindows()"
   ]
  }
 ],
 "metadata": {
  "kernelspec": {
   "display_name": "Python 3",
   "language": "python",
   "name": "python3"
  },
  "language_info": {
   "codemirror_mode": {
    "name": "ipython",
    "version": 3
   },
   "file_extension": ".py",
   "mimetype": "text/x-python",
   "name": "python",
   "nbconvert_exporter": "python",
   "pygments_lexer": "ipython3",
   "version": "3.11.4"
  },
  "orig_nbformat": 4
 },
 "nbformat": 4,
 "nbformat_minor": 2
}
