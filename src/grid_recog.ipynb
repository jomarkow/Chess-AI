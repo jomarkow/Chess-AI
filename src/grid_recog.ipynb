{
 "cells": [
  {
   "cell_type": "code",
<<<<<<< HEAD
   "execution_count": 419,
=======
   "execution_count": 28,
>>>>>>> 3aa0ec0d14fecb6fb617da7998d0780717c9605f
   "metadata": {},
   "outputs": [],
   "source": [
    "%run ../config/config.py\n",
    "#from config.config import *\n",
    "import pandas as pd\n",
    "import numpy as np\n",
<<<<<<< HEAD
    "import matplotlib.pyplot as plt\n",
    "import debug\n"
   ]
  },
  {
   "cell_type": "markdown",
   "metadata": {},
   "source": []
  },
  {
   "cell_type": "code",
   "execution_count": 420,
   "metadata": {},
   "outputs": [],
   "source": [
    "CANNY_TH_1 = 200\n",
    "CANNY_TH_2 = 200\n",
    "LINES_LEFT = 35"
   ]
  },
  {
   "cell_type": "code",
   "execution_count": 421,
   "metadata": {},
   "outputs": [],
   "source": [
    "# Configure image\n",
    "image = cv2.imread(\"../images/boards/black_yellow.jpeg\")\n",
    "image_size = (700,700)\n",
    "image = cv2.resize(image,image_size)\n",
    "gray = cv2.cvtColor(image, cv2.COLOR_BGR2GRAY)\n",
    "canny = cv2.Canny(gray, threshold1=CANNY_TH_1, threshold2=CANNY_TH_2) "
   ]
  },
  {
   "cell_type": "code",
   "execution_count": 422,
   "metadata": {},
   "outputs": [],
   "source": [
    "lines = cv2.HoughLines(canny,rho = 1, theta = np.pi / 180, threshold = 100)\n",
    "lines = lines.reshape(len(lines),2)\n",
    "lines = lines[lines[:, 0].argsort()]\n"
   ]
  },
  {
   "cell_type": "markdown",
   "metadata": {},
   "source": [
    "Detect chessboard borders"
=======
    "import debug\n",
    "import cv2"
>>>>>>> 3aa0ec0d14fecb6fb617da7998d0780717c9605f
   ]
  },
  {
   "cell_type": "code",
<<<<<<< HEAD
   "execution_count": 423,
=======
   "execution_count": 29,
>>>>>>> 3aa0ec0d14fecb6fb617da7998d0780717c9605f
   "metadata": {},
   "outputs": [
    {
     "data": {
      "text/plain": [
       "[((266, -1004), (301, 994)),\n",
       " ((190, -1003), (225, 996)),\n",
       " ((45, 1000), (80, -998)),\n",
       " ((61, 1001), (96, -998)),\n",
       " ((-1001, 89), (997, 124)),\n",
       " ((-1001, 102), (997, 137)),\n",
       " ((123, 1002), (158, -997)),\n",
       " ((132, 1002), (167, -997)),\n",
       " ((-1002, 145), (997, 180)),\n",
       " ((-996, 198), (1003, 163)),\n",
       " ((-1003, 201), (996, 236)),\n",
       " ((208, 1003), (243, -995)),\n",
       " ((-995, 250), (1003, 215)),\n",
       " ((-1004, 258), (995, 293)),\n",
       " ((-1000, 289), (999, 290)),\n",
       " ((284, 1005), (319, -994)),\n",
       " ((-1005, 314), (994, 349)),\n",
       " ((-1005, 323), (993, 358)),\n",
       " ((-993, 368), (1005, 333)),\n",
       " ((361, 1006), (396, -993)),\n",
       " ((-1006, 381), (992, 416)),\n",
       " ((-992, 425), (1006, 390)),\n",
       " ((441, 1000), (441, -1000)),\n",
       " ((-1007, 432), (991, 467)),\n",
       " ((-991, 478), (1007, 443)),\n",
       " ((-1000, 508), (999, 509)),\n",
       " ((501, 1008), (536, -990)),\n",
       " ((510, 1009), (545, -990)),\n",
       " ((-989, 584), (1009, 549)),\n",
       " ((-1000, 573), (999, 574)),\n",
       " ((-989, 598), (1009, 563)),\n",
       " ((574, 1010), (609, -989)),\n",
       " ((583, 1010), (618, -989)),\n",
       " ((637, 1011), (672, -988)),\n",
       " ((656, 1011), (691, -988))]"
      ]
     },
     "execution_count": 423,
     "metadata": {},
     "output_type": "execute_result"
    }
   ],
   "source": [
<<<<<<< HEAD
    "\n",
    "HIGH_VALUE = 500\n",
    "\n",
    "while(len(lines) > LINES_LEFT):\n",
=======
    "image = cv2.imread(BLACK_YELLOW)\n",
    "image_size = (SIZE,SIZE)\n",
    "image = cv2.resize(image,image_size)"
   ]
  },
  {
   "cell_type": "code",
   "execution_count": 38,
   "metadata": {},
   "outputs": [],
   "source": [
    "def _detect_edges(image):\n",
    "    gray = cv2.cvtColor(image, cv2.COLOR_BGR2GRAY)\n",
    "    edges = cv2.Canny(gray, THRESHOLD1, THRESHOLD2, EDGES)\n",
    "    return edges\n",
    "\n",
    "edges_image = _detect_edges(image)"
   ]
  },
  {
   "cell_type": "code",
   "execution_count": 39,
   "metadata": {},
   "outputs": [],
   "source": [
    "def _generate_edges_lines(canny):\n",
>>>>>>> 3aa0ec0d14fecb6fb617da7998d0780717c9605f
    "    \n",
    "    lines = cv2.HoughLines(canny, \n",
    "                            rho = RHO_RESOLUTION, \n",
    "                            theta =  THETA_RESOLUTION, \n",
    "                            threshold = HOUGH_THRESHOLD)\n",
    "    \n",
    "    #Format dataset\n",
    "    lines = lines.reshape(len(lines),2)\n",
    "    \n",
    "    coor_lines = []\n",
    "    for line in lines:\n",
    "        rho,theta = line\n",
    "        a = np.cos(theta)\n",
    "        b = np.sin(theta)\n",
    "        x0 = a * rho\n",
    "        y0 = b * rho\n",
    "        x1 = int(x0 +DISTANCE*(-b))\n",
    "        y1 = int(y0 +DISTANCE*(a))\n",
    "        x2 = int(x0 -DISTANCE*(-b))\n",
    "        y2 = int(y0 -DISTANCE*(a))   \n",
    "        coor_lines.append(((x1,y1),(x2,y2)))\n",
    "    \n",
    "    return np.array(coor_lines)\n",
    "    \n",
<<<<<<< HEAD
    "lines = polar_to_coor(lines)  \n",
    "\n",
    "debug.lines(image, lines, size = 4)\n",
    "lines\n"
   ]
  },
  {
   "cell_type": "markdown",
   "metadata": {},
   "source": [
    "Detect chesboard corners"
=======
    "lines = _generate_edges_lines(edges_image)"
>>>>>>> 3aa0ec0d14fecb6fb617da7998d0780717c9605f
   ]
  },
  {
   "cell_type": "code",
<<<<<<< HEAD
   "execution_count": 424,
   "metadata": {},
   "outputs": [],
=======
   "execution_count": 40,
   "metadata": {},
   "outputs": [],
   "source": [
    "from sklearn.cluster import KMeans\n",
    "\n",
    "def _get_lines_means(points, direction, n_clusters = 9):\n",
    "    \n",
    "    means = []\n",
    "\n",
    "    for lines in points:\n",
    "    \n",
    "        kmeans = KMeans(n_clusters = n_clusters, n_init=10)\n",
    "        kmeans.fit(lines)\n",
    "        labels = kmeans.labels_\n",
    "    \n",
    "        unique_labels = list(range(n_clusters))\n",
    "    \n",
    "        cluster_means = []\n",
    "    \n",
    "        for label in unique_labels: \n",
    "            cluster_data = lines[labels == label] \n",
    "            cluster_mean = np.round(sum(cluster_data)/len(cluster_data))  \n",
    "            cluster_means.append(cluster_mean)\n",
    "        \n",
    "        cluster_means = np.array(cluster_means)\n",
    "        sorted_index = np.argsort(cluster_means[:, direction])\n",
    "        \n",
    "        means.append(cluster_means[sorted_index])\n",
    " \n",
    "    return means\n"
   ]
  },
  {
   "cell_type": "code",
   "execution_count": 33,
   "metadata": {},
   "outputs": [],
   "source": [
    "\n",
    "\n",
    "def _get_vertical_averages(lines):\n",
    "    \n",
    "    vertical_lines = lines[lines[:,0,1] > SIZE]\n",
    "    \n",
    "    initial_points = vertical_lines[:,1][vertical_lines[:,1,1] < -SIZE]\n",
    "    final_points = vertical_lines[:,0][vertical_lines[:,0,1] > SIZE] \n",
    "    \n",
    "    averages = _get_lines_means((initial_points, final_points), VERTICAL)\n",
    "    \n",
    "    return np.stack(averages, axis=1)\n",
    "\n",
    "def _get_horizontal_averages(lines):\n",
    "\n",
    "    horizontal_lines = lines[lines[:,1,0] > SIZE]\n",
    "    \n",
    "    initial_points = horizontal_lines[:,0][horizontal_lines[:,0,0] < -SIZE]\n",
    "    final_points = horizontal_lines[:,1][horizontal_lines[:,1,0] > SIZE]\n",
    "    \n",
    "    averages = _get_lines_means((initial_points, final_points), HORIZONTAL)\n",
    "    \n",
    "    return np.stack(averages, axis=1)\n",
    "    \n",
    "vertical_lines = _get_vertical_averages(lines).astype(int)\n",
    "horizontal_lines = _get_horizontal_averages(lines).astype(int)\n",
    "\n",
    "lines = np.concatenate((vertical_lines,horizontal_lines), axis=0)\n",
    "\n",
    "debug.lines(image,lines, size = 3);\n"
   ]
  },
  {
   "cell_type": "code",
   "execution_count": 34,
   "metadata": {},
   "outputs": [],
   "source": [
    "def _detect_inner_corners(lines):\n",
    "    \n",
    "    black_image = np.zeros((SIZE, SIZE, EDGES), dtype=np.uint8)\n",
    "    debug.lines(black_image,lines, size = 3);\n",
    "    black_image = _detect_edges(black_image)\n",
    "    points = cv2.goodFeaturesToTrack(black_image, MAX_CORNERS, QUALITY, MIN_DISTANCE)\n",
    "    return points.reshape(len(points),2)\n",
    "    \n",
    "points =  _detect_inner_corners(lines)\n",
    "debug.points(image,points, color = BLUE, size = 7);\n"
   ]
  },
  {
   "cell_type": "code",
   "execution_count": 35,
   "metadata": {},
   "outputs": [
    {
     "data": {
      "text/plain": [
       "'import itertools\\n\\ndef line_intersections(line1, line2):\\n    x1, y1 = line1[0]\\n    x2, y2 = line1[1]\\n    x3, y3 = line2[0]\\n    x4, y4 = line2[1]\\n\\n    # Calculate the denominator for the intersection point calculation\\n    denominator = (x1 - x2) * (y3 - y4) - (y1 - y2) * (x3 - x4)\\n    if  0 in denominator:\\n        return None  # Lines are parallel and do not intersect\\n\\n    # Calculate the intersection point\\n    px = ((x1 * y2 - y1 * x2) * (x3 - x4) - (x1 - x2) * (x3 * y4 - y3 * x4)) / denominator\\n    py = ((x1 * y2 - y1 * x2) * (y3 - y4) - (y1 - y2) * (x3 * y4 - y3 * x4)) / denominator\\n\\n    return (px, py)\\n\\ndef line_intersection(lines):\\n\\n    lines = list(itertools.combinations(lines, 2))\\n    intersections = []\\n\\n    for i in range(len(lines)):\\n        intersection = line_intersections(lines[0], lines[1])\\n        if intersection is not None:\\n                intersections.append(intersection)\\n            \\n    return np.array(points)\\n\\n\\n\\n#print(lines)\\npoints = line_intersection(lines)\\n\\nprint(points)\\n\\nlower_limit = -1000\\nupper_limit = 1000\\n#points = points.astype(int)\\n# Create a mask to filter points within the range\\n#mask = (points[:, 0] >= lower_limit) & (points[:, 0] <= upper_limit) & (points[:, 1] >= lower_limit) & (points[:, 1] <= upper_limit)\\n\\n#points = points[mask]\\n\\nprint(len(points))\\ndebug.points(image,points, color = (0,255,0), size = 7);\\n\\n#print(len(sorted_intersections))'"
      ]
     },
     "execution_count": 35,
     "metadata": {},
     "output_type": "execute_result"
    }
   ],
>>>>>>> 3aa0ec0d14fecb6fb617da7998d0780717c9605f
   "source": [
    "\"\"\"import itertools\n",
    "\n",
    "def line_intersections(line1, line2):\n",
    "    x1, y1 = line1[0]\n",
    "    x2, y2 = line1[1]\n",
    "    x3, y3 = line2[0]\n",
    "    x4, y4 = line2[1]\n",
    "\n",
    "    # Calculate the denominator for the intersection point calculation\n",
    "    denominator = (x1 - x2) * (y3 - y4) - (y1 - y2) * (x3 - x4)\n",
    "    if  0 in denominator:\n",
    "        return None  # Lines are parallel and do not intersect\n",
    "\n",
    "    # Calculate the intersection point\n",
    "    px = ((x1 * y2 - y1 * x2) * (x3 - x4) - (x1 - x2) * (x3 * y4 - y3 * x4)) / denominator\n",
    "    py = ((x1 * y2 - y1 * x2) * (y3 - y4) - (y1 - y2) * (x3 * y4 - y3 * x4)) / denominator\n",
    "\n",
    "    return (px, py)\n",
    "\n",
    "def line_intersection(lines):\n",
    "\n",
<<<<<<< HEAD
    "    points = []\n",
=======
    "    lines = list(itertools.combinations(lines, 2))\n",
    "    intersections = []\n",
    "\n",
>>>>>>> 3aa0ec0d14fecb6fb617da7998d0780717c9605f
    "    for i in range(len(lines)):\n",
    "        intersection = line_intersections(lines[0], lines[1])\n",
    "        if intersection is not None:\n",
    "                intersections.append(intersection)\n",
    "            \n",
    "    return np.array(points)\n",
    "\n",
    "\n",
    "\n",
    "#print(lines)\n",
    "points = line_intersection(lines)\n",
    "\n",
    "print(points)\n",
    "\n",
    "lower_limit = -1000\n",
    "upper_limit = 1000\n",
    "#points = points.astype(int)\n",
    "# Create a mask to filter points within the range\n",
    "#mask = (points[:, 0] >= lower_limit) & (points[:, 0] <= upper_limit) & (points[:, 1] >= lower_limit) & (points[:, 1] <= upper_limit)\n",
    "\n",
<<<<<<< HEAD
    "#debug.points(image,intersections,color = (0,255,0),size = 10)\n",
    "inters = np.array(intersections)\n",
    "inters = inters[np.all((-100 <= inters) & (inters <= 800), axis=1)] # Delete point outside -100 and 800\n",
    "sorted_intersections = inters[inters[:, 0].argsort()]\n",
    "\n",
    "\n",
    "#debug.points(image, sorted_intersections)"
   ]
  },
  {
   "cell_type": "markdown",
   "metadata": {},
   "source": [
    "Trim image"
=======
    "#points = points[mask]\n",
    "\n",
    "print(len(points))\n",
    "debug.points(image,points, color = (0,255,0), size = 7);\n",
    "\n",
    "#print(len(sorted_intersections))\"\"\""
>>>>>>> 3aa0ec0d14fecb6fb617da7998d0780717c9605f
   ]
  },
  {
   "cell_type": "code",
<<<<<<< HEAD
   "execution_count": 425,
=======
   "execution_count": 36,
>>>>>>> 3aa0ec0d14fecb6fb617da7998d0780717c9605f
   "metadata": {},
   "outputs": [],
   "source": [
    "def _individual_square_corners():\n",
    "    pass"
   ]
  },
  {
   "cell_type": "code",
<<<<<<< HEAD
   "execution_count": 426,
   "metadata": {},
   "outputs": [],
   "source": [
    "gray_trimmed_image = cv2.cvtColor(image, cv2.COLOR_BGR2GRAY)\n",
    "max_corners = 80\n",
    "corners = cv2.goodFeaturesToTrack(gray_trimmed_image, max_corners, qualityLevel= 0.1, minDistance= 15)\n",
    "corners = np.intp(corners)\n",
    "actual_size = corners.shape[0], corners.shape[2]\n",
    "corners = corners.reshape(actual_size)\n",
    "\n",
    "debug.points(image,corners, color=(0,255,0), size= 5);"
   ]
  },
  {
   "cell_type": "code",
   "execution_count": 427,
   "metadata": {},
   "outputs": [
    {
     "data": {
      "text/plain": [
       "<matplotlib.collections.PathCollection at 0x15091c4e6d0>"
      ]
     },
     "execution_count": 427,
     "metadata": {},
     "output_type": "execute_result"
    },
    {
     "data": {
      "image/png": "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",
      "text/plain": [
       "<Figure size 640x480 with 1 Axes>"
      ]
     },
     "metadata": {},
     "output_type": "display_data"
    }
   ],
   "source": [
    "plt.scatter(corners[:,0], corners[:,1])"
   ]
  },
  {
   "cell_type": "code",
   "execution_count": 428,
   "metadata": {},
   "outputs": [],
   "source": [
    "debug.lines(image, lines)\n",
    "cv2.imshow('Imagen Original', image)\n",
    "cv2.imshow('canny', canny)\n",
    "#cv2.imshow('Imagen Recortada', trimmed_image)\n",
=======
   "execution_count": 37,
   "metadata": {},
   "outputs": [],
   "source": [
    "\n",
    "cv2.imshow(\"Image\", image)\n",
>>>>>>> 3aa0ec0d14fecb6fb617da7998d0780717c9605f
    "cv2.waitKey(0)\n",
    "cv2.destroyAllWindows()"
   ]
  }
 ],
 "metadata": {
  "kernelspec": {
   "display_name": "Python 3",
   "language": "python",
   "name": "python3"
  },
  "language_info": {
   "codemirror_mode": {
    "name": "ipython",
    "version": 3
   },
   "file_extension": ".py",
   "mimetype": "text/x-python",
   "name": "python",
   "nbconvert_exporter": "python",
   "pygments_lexer": "ipython3",
   "version": "3.10.1"
  },
  "orig_nbformat": 4
 },
 "nbformat": 4,
 "nbformat_minor": 2
}
