{
 "cells": [
  {
   "cell_type": "code",
   "execution_count": 760,
   "metadata": {},
   "outputs": [],
   "source": [
    "%run ../config/config.py\n",
    "#from config.config import *\n",
    "import pandas as pd\n",
    "import numpy as np\n",
    "import debug\n",
    "import cv2"
   ]
  },
  {
   "cell_type": "code",
   "execution_count": 761,
   "metadata": {},
   "outputs": [],
   "source": [
    "image = cv2.imread(BLACK_YELLOW)\n",
    "image_size = (SIZE,SIZE)\n",
    "image = cv2.resize(image,image_size)"
   ]
  },
  {
   "cell_type": "code",
   "execution_count": 762,
   "metadata": {},
   "outputs": [],
   "source": [
    "def _detect_edges(image):\n",
    "    gray = cv2.cvtColor(image, cv2.COLOR_BGR2GRAY)\n",
    "    edges = cv2.Canny(gray, THRESHOLD1, THRESHOLD2, EDGES)\n",
    "    return edges\n",
    "\n",
    "edges_image = _detect_edges(image)"
   ]
  },
  {
   "cell_type": "code",
   "execution_count": 763,
   "metadata": {},
   "outputs": [],
   "source": [
    "def _generate_edges_lines(canny):\n",
    "    \n",
    "    lines = cv2.HoughLines(canny, \n",
    "                            rho = RHO_RESOLUTION, \n",
    "                            theta =  THETA_RESOLUTION, \n",
    "                            threshold = HOUGH_THRESHOLD)\n",
    "    \n",
    "    #Format dataset\n",
    "    lines = lines.reshape(len(lines),2)\n",
    "    \n",
    "    coor_lines = []\n",
    "    for line in lines:\n",
    "        rho,theta = line\n",
    "        a = np.cos(theta)\n",
    "        b = np.sin(theta)\n",
    "        x0 = a * rho\n",
    "        y0 = b * rho\n",
    "        x1 = int(x0 +DISTANCE*(-b))\n",
    "        y1 = int(y0 +DISTANCE*(a))\n",
    "        x2 = int(x0 -DISTANCE*(-b))\n",
    "        y2 = int(y0 -DISTANCE*(a))   \n",
    "        coor_lines.append(((x1,y1),(x2,y2)))\n",
    "    \n",
    "    return np.array(coor_lines)\n",
    "    \n",
    "lines = _generate_edges_lines(edges_image)"
   ]
  },
  {
   "cell_type": "code",
   "execution_count": 764,
   "metadata": {},
   "outputs": [],
   "source": [
    "from sklearn.cluster import KMeans\n",
    "\n",
    "def _get_lines_means(points, direction, n_clusters = 9):\n",
    "    \n",
    "    means = []\n",
    "\n",
    "    for lines in points:\n",
    "    \n",
    "        kmeans = KMeans(n_clusters = n_clusters, n_init=10)\n",
    "        kmeans.fit(lines)\n",
    "        labels = kmeans.labels_\n",
    "    \n",
    "        unique_labels = list(range(n_clusters))\n",
    "    \n",
    "        cluster_means = []\n",
    "    \n",
    "        for label in unique_labels: \n",
    "            cluster_data = lines[labels == label] \n",
    "            cluster_mean = np.round(sum(cluster_data)/len(cluster_data))  \n",
    "            cluster_means.append(cluster_mean)\n",
    "        \n",
    "        cluster_means = np.array(cluster_means)\n",
    "        sorted_index = np.argsort(cluster_means[:, direction])\n",
    "        \n",
    "        means.append(cluster_means[sorted_index])\n",
    " \n",
    "    return means\n"
   ]
  },
  {
   "cell_type": "code",
   "execution_count": 765,
   "metadata": {},
   "outputs": [],
   "source": [
    "\n",
    "\n",
    "def _get_vertical_averages(lines):\n",
    "    \n",
    "    vertical_lines = lines[lines[:,0,1] > SIZE]\n",
    "    \n",
    "    initial_points = vertical_lines[:,1][vertical_lines[:,1,1] < -SIZE]\n",
    "    final_points = vertical_lines[:,0][vertical_lines[:,0,1] > SIZE] \n",
    "    \n",
    "    averages = _get_lines_means((initial_points, final_points), VERTICAL)\n",
    "    \n",
    "    return np.stack(averages, axis=1)\n",
    "\n",
    "def _get_horizontal_averages(lines):\n",
    "\n",
    "    horizontal_lines = lines[lines[:,1,0] > SIZE]\n",
    "    \n",
    "    initial_points = horizontal_lines[:,0][horizontal_lines[:,0,0] < -SIZE]\n",
    "    final_points = horizontal_lines[:,1][horizontal_lines[:,1,0] > SIZE]\n",
    "    \n",
    "    averages = _get_lines_means((initial_points, final_points), HORIZONTAL)\n",
    "    \n",
    "    return np.stack(averages, axis=1)\n",
    "    \n",
    "vertical_lines = _get_vertical_averages(lines).astype(int)\n",
    "horizontal_lines = _get_horizontal_averages(lines).astype(int)\n",
    "\n",
    "lines = np.concatenate((vertical_lines,horizontal_lines), axis=0)\n",
    "\n",
    "debug.lines(image,lines, size = 3, color=GREEN);\n"
   ]
  },
  {
   "cell_type": "code",
   "execution_count": 766,
   "metadata": {},
   "outputs": [],
   "source": [
    "def _detect_inner_corners(lines, corners = MAX_CORNERS):\n",
    "    \n",
    "    black_image = np.zeros((SIZE, SIZE, EDGES), dtype=np.uint8)\n",
    "    debug.lines(black_image,lines, size = 1);\n",
    "    black_image = _detect_edges(black_image)\n",
    "    points = cv2.goodFeaturesToTrack(black_image, corners, QUALITY, MIN_DISTANCE)\n",
    "    return points.reshape(len(points),2)\n",
    "#debug.lines(image,lines, size = 1);\n",
    "points =  _detect_inner_corners(lines)\n",
    "\n",
    "points;\n"
   ]
  },
  {
   "cell_type": "code",
   "execution_count": 767,
   "metadata": {},
   "outputs": [],
   "source": [
    "def _get_middle_squares(lines):\n",
    "\n",
    "    middle_lines = []\n",
    "\n",
    "    for i in range(17):\n",
    "        \n",
    "        if i == 8: continue\n",
    "        \n",
    "        mean = (lines[i] +lines[i+1])/2\n",
    "        \n",
    "        middle_line = mean.astype(int).tolist()\n",
    "        middle_lines.append(middle_line)\n",
    "        \n",
    "    corners = _detect_inner_corners(middle_lines, 64)\n",
    "    return corners\n",
    "\n",
    "middle_points = _get_middle_squares(lines)\n"
   ]
  },
  {
   "cell_type": "code",
   "execution_count": 768,
   "metadata": {},
   "outputs": [],
   "source": [
    "def _distance(a, b):\n",
    "    \n",
    "    x_diff = abs(a[0] - b[0])\n",
    "    y_diff = abs(a[1] - b[1])\n",
    "    \n",
    "    distance = np.sqrt(x_diff**2 + y_diff**2)\n",
    "    \n",
    "    return distance"
   ]
  },
  {
   "cell_type": "code",
   "execution_count": 769,
   "metadata": {},
   "outputs": [],
   "source": [
    "def _get_grid(middle_points, lines):\n",
    "    grid_points = _detect_inner_corners(lines)\n",
    "    \n",
    "    grid = []\n",
    "    \n",
    "    for middle_point in middle_points:\n",
    "        \n",
    "        distances = []\n",
    "        \n",
    "        for point in grid_points:\n",
    "            \n",
    "            distances.append(_distance(middle_point, point))\n",
    "            \n",
    "        index = np.argsort(distances)\n",
    "        \n",
    "        order = grid_points[index]\n",
    "        \n",
    "        final = order[:4].tolist()\n",
    "        \n",
    "        grid.append(final)\n",
    "        \n",
    "    #grid_index = np.argsort(middle_point)\n",
    "    return grid\n",
    "    #print(_distance(points, grid_points))\n",
    "\n",
    "def ordenar_puntos(punto):\n",
    "    x, y = punto\n",
    "    return (y, x)\n",
    "\n",
    "# Utiliza la función sorted para ordenar los puntos\n",
    "middle_points = sorted(middle_points, key = ordenar_puntos)\n",
    "\n",
    "grid = _get_grid(middle_points, lines)\n",
    "\n",
    "#debug.points(image, middle_points, color = RED, size = 8)\n"
   ]
  },
  {
   "cell_type": "code",
   "execution_count": 770,
   "metadata": {},
   "outputs": [
    {
     "name": "stdout",
     "output_type": "stream",
     "text": [
      "(656.5534079951224, 639.4706028955877)\n"
     ]
    }
   ],
   "source": [
    "\n",
    "def line_intersection(line1, line2):\n",
    "    line1 = line1.tolist()\n",
    "    line2 = line2.tolist()\n",
    "    xdiff = (line1[0][0] - line1[1][0], line2[0][0] - line2[1][0])\n",
    "    ydiff = (line1[0][1] - line1[1][1], line2[0][1] - line2[1][1])\n",
    "\n",
    "    def det(a, b):\n",
    "        return a[0] * b[1] - a[1] * b[0]\n",
    "\n",
    "    div = det(xdiff, ydiff)\n",
    "    if div == 0:\n",
    "       raise Exception('lines do not intersect')\n",
    "\n",
    "    d = (det(*line1), det(*line2))\n",
    "    x = det(d, xdiff) / div\n",
    "    y = det(d, ydiff) / div\n",
    "    return (x, y)\n",
    "\n",
    "    # Muestra la imagen con las líneas y la intersección\n",
    "\n",
    "\n",
    "for i in range(9):\n",
    "    for j in range(9,18):\n",
    "        res = line_intersection(lines[i], lines[j])\n",
    "        cv2.circle(image,center=(int(res[0]),int(res[1])),radius=10,color=RED, thickness= -1)  \n",
    "\n",
    "\n",
    "print(res)"
   ]
  },
  {
   "cell_type": "code",
   "execution_count": 771,
   "metadata": {},
   "outputs": [],
   "source": [
    "\n",
    "cv2.imshow(\"Image\", image)\n",
    "cv2.waitKey(0)\n",
    "cv2.destroyAllWindows()"
   ]
  }
 ],
 "metadata": {
  "kernelspec": {
   "display_name": "Python 3",
   "language": "python",
   "name": "python3"
  },
  "language_info": {
   "codemirror_mode": {
    "name": "ipython",
    "version": 3
   },
   "file_extension": ".py",
   "mimetype": "text/x-python",
   "name": "python",
   "nbconvert_exporter": "python",
   "pygments_lexer": "ipython3",
   "version": "3.11.4"
  },
  "orig_nbformat": 4
 },
 "nbformat": 4,
 "nbformat_minor": 2
}
