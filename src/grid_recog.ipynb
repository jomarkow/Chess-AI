{
 "cells": [
  {
   "cell_type": "code",
   "execution_count": 65,
   "metadata": {},
   "outputs": [],
   "source": [
    "import pandas as pd\n",
    "import cv2\n",
    "import numpy as np\n",
    "import matplotlib.pyplot as plt\n",
    "import debug\n"
   ]
  },
  {
   "cell_type": "markdown",
   "metadata": {},
   "source": []
  },
  {
   "cell_type": "code",
   "execution_count": 66,
   "metadata": {},
   "outputs": [],
   "source": [
    "# Configure image\n",
    "image = cv2.imread(\"../images/boards/red_white_angled.jpeg\")\n",
    "image_size = (700,700)\n",
    "image = cv2.resize(image,image_size)\n",
    "gray = cv2.cvtColor(image, cv2.COLOR_BGR2GRAY)\n"
   ]
  },
  {
   "cell_type": "markdown",
   "metadata": {},
   "source": [
    "Detect chessboard borders"
   ]
  },
  {
   "cell_type": "code",
   "execution_count": 67,
   "metadata": {},
   "outputs": [
    {
     "name": "stdout",
     "output_type": "stream",
     "text": [
      "[(556.4008760427507, 43.778589732887816), (347.5752804401418, -638.7419893990578), (707.0896201311468, 536.2860746850474), (165.24506285964432, 43.58291398842403), (28050.75, 57.53264132066033), (30.41947038645667, 548.1337261313026)]\n"
     ]
    }
   ],
   "source": [
    "canny = cv2.Canny(gray, threshold1=1150, threshold2=200) \n",
    "lines = cv2.HoughLines(canny,rho = 1, theta = np.pi / 180, threshold = 200)\n",
    "lines = lines.reshape(len(lines),2)\n",
    "lines = lines[lines[:, 0].argsort()]\n",
    "\n",
    "HIGH_VALUE = 500\n",
    "while(len(lines) > 4):\n",
    "    \n",
    "    less_diff = HIGH_VALUE\n",
    "    \n",
    "    for i in range(len(lines)-1):\n",
    "        \n",
    "        difference = lines[i + 1][0] - lines[i][0]\n",
    "        if  difference < less_diff:\n",
    "            less_diff = difference\n",
    "            duplicate = i\n",
    "            \n",
    "    lines = np.delete(lines, duplicate, axis=0)\n",
    "\n",
    "def polar_to_coor(lines):\n",
    "    \n",
    "    coor_lines = []\n",
    "    for line in lines:\n",
    "        rho,theta = line\n",
    "        a = np.cos(theta)\n",
    "        b = np.sin(theta)\n",
    "        x0 = a * rho\n",
    "        y0 = b * rho\n",
    "        x1 = int(x0 +1000 *(-b))\n",
    "        y1 = int(y0 +1000*(a))\n",
    "        x2 = int(x0 -1000*(-b))\n",
    "        y2 = int(y0 -1000*(a))   \n",
    "        coor_lines.append(((x1,y1),(x2,y2)))\n",
    "    \n",
    "    return coor_lines\n",
    "    \n",
    "def line_intersection(line1, line2):\n",
    "    xdiff = (line1[0][0] - line1[1][0], line2[0][0] - line2[1][0])\n",
    "    ydiff = (line1[0][1] - line1[1][1], line2[0][1] - line2[1][1])\n",
    "\n",
    "    def det(a, b):\n",
    "        return a[0] * b[1] - a[1] * b[0]\n",
    "\n",
    "    div = det(xdiff, ydiff)\n",
    "    if div == 0:\n",
    "       return None\n",
    "\n",
    "    d = (det(*line1), det(*line2))\n",
    "    x = det(d, xdiff) / div\n",
    "    y = det(d, ydiff) / div\n",
    "    return x, y    \n",
    "\n",
    "inter = []\n",
    "lines = polar_to_coor(lines)\n",
    "\n",
    "for i in range(len(lines)):\n",
    "    for j in range(i + 1, len(lines)):\n",
    "        inter.append(line_intersection(lines[i], lines[j]))\n",
    "        \n",
    "\n",
    "#debug.lines(image, lines, size = 7)\n",
    "debug.points(image,inter,color = (0,255,0),size = 10)\n",
    "print(inter)\n"
   ]
  },
  {
   "cell_type": "code",
   "execution_count": null,
   "metadata": {},
   "outputs": [],
   "source": []
  },
  {
   "cell_type": "markdown",
   "metadata": {},
   "source": [
    "Trim image"
   ]
  },
  {
   "cell_type": "code",
   "execution_count": 68,
   "metadata": {},
   "outputs": [],
   "source": [
    "vertices = np.array([(100, 100), (400, 100), (200, 300), (300, 300)], np.int32)\n",
    "\n",
    "# Crear una máscara vacía\n",
    "mascara = np.zeros_like(image)\n",
    "\n",
    "# Llenar la máscara con el trapecio\n",
    "cv2.fillPoly(mascara, [vertices], (255, 255, 255))\n",
    "\n",
    "# Aplicar la máscara a la imagen original\n",
    "imagen_recortada = cv2.bitwise_and(image, mascara)\n",
    "\n",
    "# Mostrar la imagen original y la imagen recortada\n"
   ]
  },
  {
   "cell_type": "markdown",
   "metadata": {},
   "source": [
    "Detect inner corners"
   ]
  },
  {
   "cell_type": "code",
   "execution_count": 69,
   "metadata": {},
   "outputs": [],
   "source": [
    "max_corners = 100\n",
    "corners = cv2.goodFeaturesToTrack(gray, max_corners, qualityLevel= 0.07, minDistance= 15)\n",
    "corners = np.intp(corners)\n",
    "actual_size = corners.shape[0], corners.shape[2]\n",
    "corners = corners.reshape(actual_size)\n",
    "\n",
    "#debug.points(image,corners)"
   ]
  },
  {
   "cell_type": "code",
   "execution_count": 70,
   "metadata": {},
   "outputs": [
    {
     "data": {
      "text/plain": [
       "<matplotlib.collections.PathCollection at 0x26133bd3c10>"
      ]
     },
     "execution_count": 70,
     "metadata": {},
     "output_type": "execute_result"
    },
    {
     "data": {
      "image/png": "[encoded data removed]",
      "text/plain": [
       "<Figure size 640x480 with 1 Axes>"
      ]
     },
     "metadata": {},
     "output_type": "display_data"
    }
   ],
   "source": [
    "plt.scatter(corners[:,0], corners[:,1])"
   ]
  },
  {
   "cell_type": "code",
   "execution_count": 71,
   "metadata": {},
   "outputs": [],
   "source": [
    "cv2.imshow('Imagen Original', image)\n",
    "cv2.imshow('canny', canny)\n",
    "cv2.imshow('Imagen Recortada', imagen_recortada)\n",
    "cv2.waitKey(0)\n",
    "cv2.destroyAllWindows()"
   ]
  },
  {
   "cell_type": "code",
   "execution_count": 72,
   "metadata": {},
   "outputs": [
    {
     "name": "stdout",
     "output_type": "stream",
     "text": [
      "(1.6666666666666667, 2.0)\n"
     ]
    }
   ],
   "source": [
    "\n",
    "\n",
    "print (line_intersection(([1,1], [3,4]), ([1,3], [3,0])))"
   ]
  }
 ],
 "metadata": {
  "kernelspec": {
   "display_name": "Python 3",
   "language": "python",
   "name": "python3"
  },
  "language_info": {
   "codemirror_mode": {
    "name": "ipython",
    "version": 3
   },
   "file_extension": ".py",
   "mimetype": "text/x-python",
   "name": "python",
   "nbconvert_exporter": "python",
   "pygments_lexer": "ipython3",
   "version": "3.10.1"
  },
  "orig_nbformat": 4
 },
 "nbformat": 4,
 "nbformat_minor": 2
}
